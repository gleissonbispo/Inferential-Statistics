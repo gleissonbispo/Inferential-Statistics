{
 "cells": [
  {
   "cell_type": "markdown",
   "metadata": {},
   "source": [
    "# Usage of Inferential Statistics to analyse salary hypothesis"
   ]
  },
  {
   "cell_type": "markdown",
   "metadata": {},
   "source": [
    "------------------------"
   ]
  },
  {
   "cell_type": "markdown",
   "metadata": {},
   "source": [
    "## Author:\n",
    "[__Gleisson Bispo__](https://github.com/gleissonbispo)\n"
   ]
  },
  {
   "cell_type": "markdown",
   "metadata": {},
   "source": [
    "## Hypothesis:\n",
    "__1. Are salaries in the Brazilian South region higher than the Brazilian North region?__\n",
    "\n",
    "__2. Between the Brazilian regions have any higher salaries than the others?__\n"
   ]
  },
  {
   "cell_type": "markdown",
   "metadata": {},
   "source": [
    "## Data Base:\n",
    "__Brazilian IBGE - Population Sensus 1970 Sample (data.csv)__"
   ]
  },
  {
   "cell_type": "markdown",
   "metadata": {},
   "source": [
    "\n",
    "\n",
    "<img src=\"https://escolakids.uol.com.br/upload/image/mapa-industrial-brasileiro.jpg\" width=\"450\">\n",
    "\n",
    "\n",
    "__<center> Chart: Companies distribution on the Brazil area </center>__\n"
   ]
  },
  {
   "cell_type": "markdown",
   "metadata": {},
   "source": [
    "--------------------"
   ]
  },
  {
   "cell_type": "markdown",
   "metadata": {},
   "source": [
    "## Importing Libraries and Reading Data"
   ]
  },
  {
   "cell_type": "code",
   "execution_count": 1,
   "metadata": {},
   "outputs": [],
   "source": [
    "#Libraries\n",
    "import pandas as pd\n",
    "import numpy as np\n",
    "import scipy.stats as st\n",
    "import matplotlib.pyplot as plt\n",
    "import seaborn as sns\n",
    "\n",
    "import warnings\n",
    "warnings.filterwarnings(\"ignore\")\n"
   ]
  },
  {
   "cell_type": "code",
   "execution_count": 2,
   "metadata": {},
   "outputs": [
    {
     "data": {
      "text/html": [
       "<div>\n",
       "<style scoped>\n",
       "    .dataframe tbody tr th:only-of-type {\n",
       "        vertical-align: middle;\n",
       "    }\n",
       "\n",
       "    .dataframe tbody tr th {\n",
       "        vertical-align: top;\n",
       "    }\n",
       "\n",
       "    .dataframe thead th {\n",
       "        text-align: right;\n",
       "    }\n",
       "</style>\n",
       "<table border=\"1\" class=\"dataframe\">\n",
       "  <thead>\n",
       "    <tr style=\"text-align: right;\">\n",
       "      <th></th>\n",
       "      <th>Unnamed: 0</th>\n",
       "      <th>id</th>\n",
       "      <th>idade</th>\n",
       "      <th>sexo</th>\n",
       "      <th>anos_estudo</th>\n",
       "      <th>cor/raca</th>\n",
       "      <th>salario</th>\n",
       "      <th>estado_civil</th>\n",
       "      <th>regiao</th>\n",
       "    </tr>\n",
       "  </thead>\n",
       "  <tbody>\n",
       "    <tr>\n",
       "      <th>0</th>\n",
       "      <td>0</td>\n",
       "      <td>1.100190e+10</td>\n",
       "      <td>53</td>\n",
       "      <td>homem</td>\n",
       "      <td>5.0</td>\n",
       "      <td>Parda</td>\n",
       "      <td>63600.000000</td>\n",
       "      <td>1.0</td>\n",
       "      <td>norte</td>\n",
       "    </tr>\n",
       "    <tr>\n",
       "      <th>1</th>\n",
       "      <td>1</td>\n",
       "      <td>1.100190e+10</td>\n",
       "      <td>49</td>\n",
       "      <td>mulher</td>\n",
       "      <td>8.0</td>\n",
       "      <td>Amarela</td>\n",
       "      <td>NaN</td>\n",
       "      <td>1.0</td>\n",
       "      <td>norte</td>\n",
       "    </tr>\n",
       "    <tr>\n",
       "      <th>2</th>\n",
       "      <td>2</td>\n",
       "      <td>1.100190e+10</td>\n",
       "      <td>22</td>\n",
       "      <td>mulher</td>\n",
       "      <td>11.0</td>\n",
       "      <td>Indigena</td>\n",
       "      <td>4352.400391</td>\n",
       "      <td>0.0</td>\n",
       "      <td>nordeste</td>\n",
       "    </tr>\n",
       "    <tr>\n",
       "      <th>3</th>\n",
       "      <td>3</td>\n",
       "      <td>1.100190e+10</td>\n",
       "      <td>55</td>\n",
       "      <td>homem</td>\n",
       "      <td>15.0</td>\n",
       "      <td>Amarela</td>\n",
       "      <td>96600.000000</td>\n",
       "      <td>1.0</td>\n",
       "      <td>norte</td>\n",
       "    </tr>\n",
       "    <tr>\n",
       "      <th>4</th>\n",
       "      <td>4</td>\n",
       "      <td>1.100190e+10</td>\n",
       "      <td>56</td>\n",
       "      <td>mulher</td>\n",
       "      <td>15.0</td>\n",
       "      <td>Amarela</td>\n",
       "      <td>157800.000000</td>\n",
       "      <td>1.0</td>\n",
       "      <td>norte</td>\n",
       "    </tr>\n",
       "  </tbody>\n",
       "</table>\n",
       "</div>"
      ],
      "text/plain": [
       "   Unnamed: 0            id  idade    sexo  anos_estudo  cor/raca  \\\n",
       "0           0  1.100190e+10     53   homem          5.0     Parda   \n",
       "1           1  1.100190e+10     49  mulher          8.0   Amarela   \n",
       "2           2  1.100190e+10     22  mulher         11.0  Indigena   \n",
       "3           3  1.100190e+10     55   homem         15.0   Amarela   \n",
       "4           4  1.100190e+10     56  mulher         15.0   Amarela   \n",
       "\n",
       "         salario  estado_civil    regiao  \n",
       "0   63600.000000           1.0     norte  \n",
       "1            NaN           1.0     norte  \n",
       "2    4352.400391           0.0  nordeste  \n",
       "3   96600.000000           1.0     norte  \n",
       "4  157800.000000           1.0     norte  "
      ]
     },
     "execution_count": 2,
     "metadata": {},
     "output_type": "execute_result"
    }
   ],
   "source": [
    "#Reading CSV Database\n",
    "df_ibge = pd.read_csv('data/data.csv')\n",
    "df_ibge.head()\n"
   ]
  },
  {
   "cell_type": "code",
   "execution_count": 3,
   "metadata": {},
   "outputs": [
    {
     "name": "stdout",
     "output_type": "stream",
     "text": [
      "<class 'pandas.core.frame.DataFrame'>\n",
      "RangeIndex: 66470 entries, 0 to 66469\n",
      "Data columns (total 9 columns):\n",
      "Unnamed: 0      66470 non-null int64\n",
      "id              66470 non-null float64\n",
      "idade           66470 non-null int64\n",
      "sexo            66470 non-null object\n",
      "anos_estudo     66036 non-null float64\n",
      "cor/raca        66228 non-null object\n",
      "salario         47878 non-null float64\n",
      "estado_civil    66470 non-null float64\n",
      "regiao          66470 non-null object\n",
      "dtypes: float64(4), int64(2), object(3)\n",
      "memory usage: 4.6+ MB\n"
     ]
    }
   ],
   "source": [
    "#Key DF information\n",
    "df_ibge.info()\n"
   ]
  },
  {
   "cell_type": "markdown",
   "metadata": {},
   "source": [
    "### Column information that will be used in the analyzes"
   ]
  },
  {
   "cell_type": "code",
   "execution_count": 4,
   "metadata": {},
   "outputs": [
    {
     "data": {
      "text/plain": [
       "sudeste         25220\n",
       "centro-oeste    14702\n",
       "norte           14653\n",
       "sul             11890\n",
       "nordeste            5\n",
       "Name: regiao, dtype: int64"
      ]
     },
     "execution_count": 4,
     "metadata": {},
     "output_type": "execute_result"
    }
   ],
   "source": [
    "#Values and Quantities of the Region (Região) Column\n",
    "df_ibge['regiao'].value_counts(dropna=False)\n"
   ]
  },
  {
   "cell_type": "code",
   "execution_count": 5,
   "metadata": {},
   "outputs": [
    {
     "data": {
      "text/plain": [
       " NaN         18592\n",
       " 0.0          1841\n",
       "-1.0          1101\n",
       " 999999.0      367\n",
       " 5229.0        277\n",
       "Name: salario, dtype: int64"
      ]
     },
     "execution_count": 5,
     "metadata": {},
     "output_type": "execute_result"
    }
   ],
   "source": [
    "#Values and Quantities of the Salary (Salario) Column\n",
    "df_ibge['salario'].value_counts(dropna=False).nlargest(5)\n"
   ]
  },
  {
   "cell_type": "markdown",
   "metadata": {},
   "source": [
    "----------------"
   ]
  },
  {
   "cell_type": "markdown",
   "metadata": {},
   "source": [
    "## Understanding and Preparing Data to Analysis"
   ]
  },
  {
   "cell_type": "code",
   "execution_count": 6,
   "metadata": {},
   "outputs": [
    {
     "data": {
      "text/html": [
       "<div>\n",
       "<style scoped>\n",
       "    .dataframe tbody tr th:only-of-type {\n",
       "        vertical-align: middle;\n",
       "    }\n",
       "\n",
       "    .dataframe tbody tr th {\n",
       "        vertical-align: top;\n",
       "    }\n",
       "\n",
       "    .dataframe thead th {\n",
       "        text-align: right;\n",
       "    }\n",
       "</style>\n",
       "<table border=\"1\" class=\"dataframe\">\n",
       "  <thead>\n",
       "    <tr style=\"text-align: right;\">\n",
       "      <th></th>\n",
       "      <th>regiao</th>\n",
       "      <th>salario</th>\n",
       "    </tr>\n",
       "  </thead>\n",
       "  <tbody>\n",
       "    <tr>\n",
       "      <th>0</th>\n",
       "      <td>norte</td>\n",
       "      <td>63600.000000</td>\n",
       "    </tr>\n",
       "    <tr>\n",
       "      <th>1</th>\n",
       "      <td>norte</td>\n",
       "      <td>NaN</td>\n",
       "    </tr>\n",
       "    <tr>\n",
       "      <th>2</th>\n",
       "      <td>nordeste</td>\n",
       "      <td>4352.400391</td>\n",
       "    </tr>\n",
       "    <tr>\n",
       "      <th>3</th>\n",
       "      <td>norte</td>\n",
       "      <td>96600.000000</td>\n",
       "    </tr>\n",
       "    <tr>\n",
       "      <th>4</th>\n",
       "      <td>norte</td>\n",
       "      <td>157800.000000</td>\n",
       "    </tr>\n",
       "  </tbody>\n",
       "</table>\n",
       "</div>"
      ],
      "text/plain": [
       "     regiao        salario\n",
       "0     norte   63600.000000\n",
       "1     norte            NaN\n",
       "2  nordeste    4352.400391\n",
       "3     norte   96600.000000\n",
       "4     norte  157800.000000"
      ]
     },
     "execution_count": 6,
     "metadata": {},
     "output_type": "execute_result"
    }
   ],
   "source": [
    "#Adjusting the DataFrame only with the information that will be used in the analysis\n",
    "df_ibge = df_ibge[['regiao', 'salario']]\n",
    "df_ibge.head()\n"
   ]
  },
  {
   "cell_type": "markdown",
   "metadata": {},
   "source": [
    "### Splitting DataFrame to each Region\n",
    "_The DataFrame will be splitted by region and analyzed separately._ ___Due the low amount of values, the Northeast region will not be considered in the analysis!___"
   ]
  },
  {
   "cell_type": "markdown",
   "metadata": {},
   "source": [
    "## Southeast Region"
   ]
  },
  {
   "cell_type": "code",
   "execution_count": 7,
   "metadata": {},
   "outputs": [
    {
     "data": {
      "text/html": [
       "<div>\n",
       "<style scoped>\n",
       "    .dataframe tbody tr th:only-of-type {\n",
       "        vertical-align: middle;\n",
       "    }\n",
       "\n",
       "    .dataframe tbody tr th {\n",
       "        vertical-align: top;\n",
       "    }\n",
       "\n",
       "    .dataframe thead th {\n",
       "        text-align: right;\n",
       "    }\n",
       "</style>\n",
       "<table border=\"1\" class=\"dataframe\">\n",
       "  <thead>\n",
       "    <tr style=\"text-align: right;\">\n",
       "      <th></th>\n",
       "      <th>regiao</th>\n",
       "      <th>salario</th>\n",
       "    </tr>\n",
       "  </thead>\n",
       "  <tbody>\n",
       "    <tr>\n",
       "      <th>14657</th>\n",
       "      <td>sudeste</td>\n",
       "      <td>52800.0</td>\n",
       "    </tr>\n",
       "    <tr>\n",
       "      <th>14658</th>\n",
       "      <td>sudeste</td>\n",
       "      <td>39600.0</td>\n",
       "    </tr>\n",
       "    <tr>\n",
       "      <th>14659</th>\n",
       "      <td>sudeste</td>\n",
       "      <td>NaN</td>\n",
       "    </tr>\n",
       "    <tr>\n",
       "      <th>14660</th>\n",
       "      <td>sudeste</td>\n",
       "      <td>NaN</td>\n",
       "    </tr>\n",
       "    <tr>\n",
       "      <th>14661</th>\n",
       "      <td>sudeste</td>\n",
       "      <td>13200.0</td>\n",
       "    </tr>\n",
       "  </tbody>\n",
       "</table>\n",
       "</div>"
      ],
      "text/plain": [
       "        regiao  salario\n",
       "14657  sudeste  52800.0\n",
       "14658  sudeste  39600.0\n",
       "14659  sudeste      NaN\n",
       "14660  sudeste      NaN\n",
       "14661  sudeste  13200.0"
      ]
     },
     "execution_count": 7,
     "metadata": {},
     "output_type": "execute_result"
    }
   ],
   "source": [
    "#Creating a new Data Frame with information from the Southeast region\n",
    "df_southeast = df_ibge[df_ibge['regiao'] == 'sudeste']\n",
    "df_southeast.head()\n"
   ]
  },
  {
   "cell_type": "code",
   "execution_count": 8,
   "metadata": {},
   "outputs": [
    {
     "name": "stdout",
     "output_type": "stream",
     "text": [
      "<class 'pandas.core.frame.DataFrame'>\n",
      "Int64Index: 25220 entries, 14657 to 39876\n",
      "Data columns (total 2 columns):\n",
      "regiao     25220 non-null object\n",
      "salario    18043 non-null float64\n",
      "dtypes: float64(1), object(1)\n",
      "memory usage: 591.1+ KB\n"
     ]
    }
   ],
   "source": [
    "#DF Information\n",
    "df_southeast.info()\n"
   ]
  },
  {
   "cell_type": "markdown",
   "metadata": {},
   "source": [
    "___Due the significant amount of null values, the mean of \"confident\" values will be considered as replacement for these values (-1, 999999 and NaN)___"
   ]
  },
  {
   "cell_type": "code",
   "execution_count": 9,
   "metadata": {},
   "outputs": [
    {
     "data": {
      "text/plain": [
       "12866.992875175598"
      ]
     },
     "execution_count": 9,
     "metadata": {},
     "output_type": "execute_result"
    }
   ],
   "source": [
    "#Defining a variable with average salary (without considering null salary values -1, 999999 e NaN)\n",
    "mean_sal_sout = df_southeast[(df_southeast['salario'] >= 0) & (df_southeast['salario'] < 999999)].salario.mean()\n",
    "mean_sal_sout\n"
   ]
  },
  {
   "cell_type": "code",
   "execution_count": 10,
   "metadata": {},
   "outputs": [],
   "source": [
    "#Replacing null values (-1, 999999 and NaN) by the mean\n",
    "df_southeast['salario'].fillna(mean_sal_sout, inplace = True)\n",
    "df_southeast['salario'].replace(-1, mean_sal_sout, inplace = True)\n",
    "df_southeast['salario'].replace(999999, mean_sal_sout, inplace = True)\n"
   ]
  },
  {
   "cell_type": "code",
   "execution_count": 11,
   "metadata": {
    "scrolled": true
   },
   "outputs": [
    {
     "data": {
      "text/plain": [
       "12866.992875    7748\n",
       "0.000000         413\n",
       "7200.000000       92\n",
       "5079.599609       85\n",
       "4980.000000       81\n",
       "Name: salario, dtype: int64"
      ]
     },
     "execution_count": 11,
     "metadata": {},
     "output_type": "execute_result"
    }
   ],
   "source": [
    "df_southeast['salario'].value_counts().nlargest(5)\n"
   ]
  },
  {
   "cell_type": "code",
   "execution_count": 12,
   "metadata": {},
   "outputs": [
    {
     "name": "stdout",
     "output_type": "stream",
     "text": [
      "<class 'pandas.core.frame.DataFrame'>\n",
      "Int64Index: 25220 entries, 14657 to 39876\n",
      "Data columns (total 2 columns):\n",
      "regiao     25220 non-null object\n",
      "salario    25220 non-null float64\n",
      "dtypes: float64(1), object(1)\n",
      "memory usage: 591.1+ KB\n"
     ]
    }
   ],
   "source": [
    "#verifying new DF info\n",
    "df_southeast.info()\n"
   ]
  },
  {
   "cell_type": "markdown",
   "metadata": {},
   "source": [
    "## Midwest Region"
   ]
  },
  {
   "cell_type": "code",
   "execution_count": 13,
   "metadata": {},
   "outputs": [
    {
     "data": {
      "text/html": [
       "<div>\n",
       "<style scoped>\n",
       "    .dataframe tbody tr th:only-of-type {\n",
       "        vertical-align: middle;\n",
       "    }\n",
       "\n",
       "    .dataframe tbody tr th {\n",
       "        vertical-align: top;\n",
       "    }\n",
       "\n",
       "    .dataframe thead th {\n",
       "        text-align: right;\n",
       "    }\n",
       "</style>\n",
       "<table border=\"1\" class=\"dataframe\">\n",
       "  <thead>\n",
       "    <tr style=\"text-align: right;\">\n",
       "      <th></th>\n",
       "      <th>regiao</th>\n",
       "      <th>salario</th>\n",
       "    </tr>\n",
       "  </thead>\n",
       "  <tbody>\n",
       "    <tr>\n",
       "      <th>51767</th>\n",
       "      <td>centro-oeste</td>\n",
       "      <td>24480.000000</td>\n",
       "    </tr>\n",
       "    <tr>\n",
       "      <th>51768</th>\n",
       "      <td>centro-oeste</td>\n",
       "      <td>NaN</td>\n",
       "    </tr>\n",
       "    <tr>\n",
       "      <th>51769</th>\n",
       "      <td>centro-oeste</td>\n",
       "      <td>3816.000000</td>\n",
       "    </tr>\n",
       "    <tr>\n",
       "      <th>51770</th>\n",
       "      <td>centro-oeste</td>\n",
       "      <td>5342.400391</td>\n",
       "    </tr>\n",
       "    <tr>\n",
       "      <th>51771</th>\n",
       "      <td>centro-oeste</td>\n",
       "      <td>6204.000000</td>\n",
       "    </tr>\n",
       "  </tbody>\n",
       "</table>\n",
       "</div>"
      ],
      "text/plain": [
       "             regiao       salario\n",
       "51767  centro-oeste  24480.000000\n",
       "51768  centro-oeste           NaN\n",
       "51769  centro-oeste   3816.000000\n",
       "51770  centro-oeste   5342.400391\n",
       "51771  centro-oeste   6204.000000"
      ]
     },
     "execution_count": 13,
     "metadata": {},
     "output_type": "execute_result"
    }
   ],
   "source": [
    "#Creating a new Data Frame with information from the Midwest region\n",
    "df_midw = df_ibge[df_ibge['regiao'] == 'centro-oeste']\n",
    "df_midw.head()\n"
   ]
  },
  {
   "cell_type": "code",
   "execution_count": 14,
   "metadata": {},
   "outputs": [
    {
     "name": "stdout",
     "output_type": "stream",
     "text": [
      "<class 'pandas.core.frame.DataFrame'>\n",
      "Int64Index: 14702 entries, 51767 to 66469\n",
      "Data columns (total 2 columns):\n",
      "regiao     14702 non-null object\n",
      "salario    10320 non-null float64\n",
      "dtypes: float64(1), object(1)\n",
      "memory usage: 344.6+ KB\n"
     ]
    }
   ],
   "source": [
    "#DF Information\n",
    "df_midw.info()\n"
   ]
  },
  {
   "cell_type": "code",
   "execution_count": 15,
   "metadata": {},
   "outputs": [
    {
     "data": {
      "text/plain": [
       "13677.469600206254"
      ]
     },
     "execution_count": 15,
     "metadata": {},
     "output_type": "execute_result"
    }
   ],
   "source": [
    "#Defining a variable with average salary (without considering null salary values -1, 999999 e NaN)\n",
    "mean_sal_midw = df_midw[(df_midw['salario'] >= 0) & (df_midw['salario'] < 999999)].salario.mean()\n",
    "mean_sal_midw\n"
   ]
  },
  {
   "cell_type": "code",
   "execution_count": 16,
   "metadata": {},
   "outputs": [],
   "source": [
    "#Replacing null values (-1, 999999 and NaN) by the mean\n",
    "df_midw['salario'].fillna(mean_sal_midw, inplace = True)\n",
    "df_midw['salario'].replace(-1, mean_sal_midw, inplace = True)\n",
    "df_midw['salario'].replace(999999, mean_sal_midw, inplace = True)\n"
   ]
  },
  {
   "cell_type": "code",
   "execution_count": 17,
   "metadata": {
    "scrolled": true
   },
   "outputs": [
    {
     "data": {
      "text/plain": [
       "13677.4696    4741\n",
       "0.0000         220\n",
       "5229.0000      109\n",
       "7560.0000       86\n",
       "9600.0000       76\n",
       "Name: salario, dtype: int64"
      ]
     },
     "execution_count": 17,
     "metadata": {},
     "output_type": "execute_result"
    }
   ],
   "source": [
    "df_midw['salario'].value_counts().nlargest(5)\n"
   ]
  },
  {
   "cell_type": "code",
   "execution_count": 18,
   "metadata": {},
   "outputs": [
    {
     "name": "stdout",
     "output_type": "stream",
     "text": [
      "<class 'pandas.core.frame.DataFrame'>\n",
      "Int64Index: 14702 entries, 51767 to 66469\n",
      "Data columns (total 2 columns):\n",
      "regiao     14702 non-null object\n",
      "salario    14702 non-null float64\n",
      "dtypes: float64(1), object(1)\n",
      "memory usage: 344.6+ KB\n"
     ]
    }
   ],
   "source": [
    "#verifying new DF info\n",
    "df_midw.info()\n"
   ]
  },
  {
   "cell_type": "markdown",
   "metadata": {},
   "source": [
    "## North Region"
   ]
  },
  {
   "cell_type": "code",
   "execution_count": 19,
   "metadata": {},
   "outputs": [
    {
     "data": {
      "text/html": [
       "<div>\n",
       "<style scoped>\n",
       "    .dataframe tbody tr th:only-of-type {\n",
       "        vertical-align: middle;\n",
       "    }\n",
       "\n",
       "    .dataframe tbody tr th {\n",
       "        vertical-align: top;\n",
       "    }\n",
       "\n",
       "    .dataframe thead th {\n",
       "        text-align: right;\n",
       "    }\n",
       "</style>\n",
       "<table border=\"1\" class=\"dataframe\">\n",
       "  <thead>\n",
       "    <tr style=\"text-align: right;\">\n",
       "      <th></th>\n",
       "      <th>regiao</th>\n",
       "      <th>salario</th>\n",
       "    </tr>\n",
       "  </thead>\n",
       "  <tbody>\n",
       "    <tr>\n",
       "      <th>0</th>\n",
       "      <td>norte</td>\n",
       "      <td>63600.000000</td>\n",
       "    </tr>\n",
       "    <tr>\n",
       "      <th>1</th>\n",
       "      <td>norte</td>\n",
       "      <td>NaN</td>\n",
       "    </tr>\n",
       "    <tr>\n",
       "      <th>3</th>\n",
       "      <td>norte</td>\n",
       "      <td>96600.000000</td>\n",
       "    </tr>\n",
       "    <tr>\n",
       "      <th>4</th>\n",
       "      <td>norte</td>\n",
       "      <td>157800.000000</td>\n",
       "    </tr>\n",
       "    <tr>\n",
       "      <th>6</th>\n",
       "      <td>norte</td>\n",
       "      <td>6734.400391</td>\n",
       "    </tr>\n",
       "  </tbody>\n",
       "</table>\n",
       "</div>"
      ],
      "text/plain": [
       "  regiao        salario\n",
       "0  norte   63600.000000\n",
       "1  norte            NaN\n",
       "3  norte   96600.000000\n",
       "4  norte  157800.000000\n",
       "6  norte    6734.400391"
      ]
     },
     "execution_count": 19,
     "metadata": {},
     "output_type": "execute_result"
    }
   ],
   "source": [
    "#Creating a new Data Frame with information from the North region\n",
    "df_north = df_ibge[df_ibge['regiao'] == 'norte']\n",
    "df_north.head()\n"
   ]
  },
  {
   "cell_type": "code",
   "execution_count": 20,
   "metadata": {},
   "outputs": [
    {
     "name": "stdout",
     "output_type": "stream",
     "text": [
      "<class 'pandas.core.frame.DataFrame'>\n",
      "Int64Index: 14653 entries, 0 to 14656\n",
      "Data columns (total 2 columns):\n",
      "regiao     14653 non-null object\n",
      "salario    10466 non-null float64\n",
      "dtypes: float64(1), object(1)\n",
      "memory usage: 343.4+ KB\n"
     ]
    }
   ],
   "source": [
    "#DF Information\n",
    "df_north.info()\n"
   ]
  },
  {
   "cell_type": "code",
   "execution_count": 21,
   "metadata": {},
   "outputs": [
    {
     "data": {
      "text/plain": [
       "10048.120711533555"
      ]
     },
     "execution_count": 21,
     "metadata": {},
     "output_type": "execute_result"
    }
   ],
   "source": [
    "#Defining a variable with average salary (without considering null salary values -1, 999999 e NaN)\n",
    "mean_sal_nor = df_north[(df_north['salario'] >= 0) & (df_north['salario'] < 999999)].salario.mean()\n",
    "mean_sal_nor\n"
   ]
  },
  {
   "cell_type": "code",
   "execution_count": 22,
   "metadata": {},
   "outputs": [],
   "source": [
    "#Replacing null values (-1, 999999 and NaN) by the mean\n",
    "df_north['salario'].fillna(mean_sal_nor, inplace = True)\n",
    "df_north['salario'].replace(-1, mean_sal_nor, inplace = True)\n",
    "df_north['salario'].replace(999999, mean_sal_nor, inplace = True)\n"
   ]
  },
  {
   "cell_type": "code",
   "execution_count": 23,
   "metadata": {},
   "outputs": [
    {
     "data": {
      "text/plain": [
       "10048.120712    4446\n",
       "0.000000         700\n",
       "5229.000000       93\n",
       "7560.000000       79\n",
       "2520.000000       73\n",
       "Name: salario, dtype: int64"
      ]
     },
     "execution_count": 23,
     "metadata": {},
     "output_type": "execute_result"
    }
   ],
   "source": [
    "df_north['salario'].value_counts().nlargest(5)"
   ]
  },
  {
   "cell_type": "code",
   "execution_count": 24,
   "metadata": {},
   "outputs": [
    {
     "name": "stdout",
     "output_type": "stream",
     "text": [
      "<class 'pandas.core.frame.DataFrame'>\n",
      "Int64Index: 14653 entries, 0 to 14656\n",
      "Data columns (total 2 columns):\n",
      "regiao     14653 non-null object\n",
      "salario    14653 non-null float64\n",
      "dtypes: float64(1), object(1)\n",
      "memory usage: 343.4+ KB\n"
     ]
    }
   ],
   "source": [
    "#verifying new DF info\n",
    "df_north.info()\n"
   ]
  },
  {
   "cell_type": "markdown",
   "metadata": {},
   "source": [
    "## South Region"
   ]
  },
  {
   "cell_type": "code",
   "execution_count": 25,
   "metadata": {},
   "outputs": [
    {
     "data": {
      "text/html": [
       "<div>\n",
       "<style scoped>\n",
       "    .dataframe tbody tr th:only-of-type {\n",
       "        vertical-align: middle;\n",
       "    }\n",
       "\n",
       "    .dataframe tbody tr th {\n",
       "        vertical-align: top;\n",
       "    }\n",
       "\n",
       "    .dataframe thead th {\n",
       "        text-align: right;\n",
       "    }\n",
       "</style>\n",
       "<table border=\"1\" class=\"dataframe\">\n",
       "  <thead>\n",
       "    <tr style=\"text-align: right;\">\n",
       "      <th></th>\n",
       "      <th>regiao</th>\n",
       "      <th>salario</th>\n",
       "    </tr>\n",
       "  </thead>\n",
       "  <tbody>\n",
       "    <tr>\n",
       "      <th>39877</th>\n",
       "      <td>sul</td>\n",
       "      <td>8547.0</td>\n",
       "    </tr>\n",
       "    <tr>\n",
       "      <th>39878</th>\n",
       "      <td>sul</td>\n",
       "      <td>-1.0</td>\n",
       "    </tr>\n",
       "    <tr>\n",
       "      <th>39879</th>\n",
       "      <td>sul</td>\n",
       "      <td>NaN</td>\n",
       "    </tr>\n",
       "    <tr>\n",
       "      <th>39880</th>\n",
       "      <td>sul</td>\n",
       "      <td>NaN</td>\n",
       "    </tr>\n",
       "    <tr>\n",
       "      <th>39881</th>\n",
       "      <td>sul</td>\n",
       "      <td>3975.0</td>\n",
       "    </tr>\n",
       "  </tbody>\n",
       "</table>\n",
       "</div>"
      ],
      "text/plain": [
       "      regiao  salario\n",
       "39877    sul   8547.0\n",
       "39878    sul     -1.0\n",
       "39879    sul      NaN\n",
       "39880    sul      NaN\n",
       "39881    sul   3975.0"
      ]
     },
     "execution_count": 25,
     "metadata": {},
     "output_type": "execute_result"
    }
   ],
   "source": [
    "#Creating a new Data Frame with information from the South region\n",
    "df_south = df_ibge[df_ibge['regiao'] == 'sul']\n",
    "df_south.head()\n"
   ]
  },
  {
   "cell_type": "code",
   "execution_count": 26,
   "metadata": {},
   "outputs": [
    {
     "name": "stdout",
     "output_type": "stream",
     "text": [
      "<class 'pandas.core.frame.DataFrame'>\n",
      "Int64Index: 11890 entries, 39877 to 51766\n",
      "Data columns (total 2 columns):\n",
      "regiao     11890 non-null object\n",
      "salario    9046 non-null float64\n",
      "dtypes: float64(1), object(1)\n",
      "memory usage: 278.7+ KB\n"
     ]
    }
   ],
   "source": [
    "#DF Information\n",
    "df_south.info()\n"
   ]
  },
  {
   "cell_type": "code",
   "execution_count": 27,
   "metadata": {},
   "outputs": [
    {
     "data": {
      "text/plain": [
       "12867.547667341656"
      ]
     },
     "execution_count": 27,
     "metadata": {},
     "output_type": "execute_result"
    }
   ],
   "source": [
    "#Defining a variable with average salary (without considering null salary values -1, 999999 e NaN)\n",
    "mean_sal_sou = df_south[(df_south['salario'] >= 0) & (df_south['salario'] < 999999)].salario.mean()\n",
    "mean_sal_sou\n"
   ]
  },
  {
   "cell_type": "code",
   "execution_count": 28,
   "metadata": {},
   "outputs": [],
   "source": [
    "#Replacing null values (-1, 999999 and NaN) by the mean\n",
    "df_south['salario'].fillna(mean_sal_sou, inplace = True)\n",
    "df_south['salario'].replace(-1, mean_sal_sou, inplace = True)\n",
    "df_south['salario'].replace(999999, mean_sal_sou, inplace = True)\n"
   ]
  },
  {
   "cell_type": "code",
   "execution_count": 29,
   "metadata": {},
   "outputs": [
    {
     "data": {
      "text/plain": [
       "12867.547667    3123\n",
       "0.000000         508\n",
       "12000.000000      55\n",
       "9600.000000       45\n",
       "6000.000000       44\n",
       "Name: salario, dtype: int64"
      ]
     },
     "execution_count": 29,
     "metadata": {},
     "output_type": "execute_result"
    }
   ],
   "source": [
    "df_south['salario'].value_counts().nlargest(5)\n"
   ]
  },
  {
   "cell_type": "code",
   "execution_count": 30,
   "metadata": {},
   "outputs": [
    {
     "name": "stdout",
     "output_type": "stream",
     "text": [
      "<class 'pandas.core.frame.DataFrame'>\n",
      "Int64Index: 11890 entries, 39877 to 51766\n",
      "Data columns (total 2 columns):\n",
      "regiao     11890 non-null object\n",
      "salario    11890 non-null float64\n",
      "dtypes: float64(1), object(1)\n",
      "memory usage: 278.7+ KB\n"
     ]
    }
   ],
   "source": [
    "#verifying new DF info\n",
    "df_south.info()\n"
   ]
  },
  {
   "cell_type": "markdown",
   "metadata": {},
   "source": [
    "--------------"
   ]
  },
  {
   "cell_type": "markdown",
   "metadata": {},
   "source": [
    "## Normalizing the data and applying the inference"
   ]
  },
  {
   "cell_type": "markdown",
   "metadata": {},
   "source": [
    "## Southeast Region"
   ]
  },
  {
   "cell_type": "code",
   "execution_count": 31,
   "metadata": {},
   "outputs": [
    {
     "data": {
      "text/plain": [
       "<matplotlib.axes._subplots.AxesSubplot at 0x2039f66e278>"
      ]
     },
     "execution_count": 31,
     "metadata": {},
     "output_type": "execute_result"
    },
    {
     "data": {
      "image/png": "[encoded data removed]",
      "text/plain": [
       "<Figure size 432x288 with 1 Axes>"
      ]
     },
     "metadata": {
      "needs_background": "light"
     },
     "output_type": "display_data"
    }
   ],
   "source": [
    "#Verifying the salary distribution in the Southeast region\n",
    "df_southeast['salario'].plot(kind='hist', bins=30, range=(0, 30000))\n"
   ]
  },
  {
   "cell_type": "code",
   "execution_count": 32,
   "metadata": {},
   "outputs": [
    {
     "data": {
      "text/plain": [
       "<matplotlib.axes._subplots.AxesSubplot at 0x2039f4c4160>"
      ]
     },
     "execution_count": 32,
     "metadata": {},
     "output_type": "execute_result"
    },
    {
     "data": {
      "image/png": "[encoded data removed]",
      "text/plain": [
       "<Figure size 432x288 with 1 Axes>"
      ]
     },
     "metadata": {
      "needs_background": "light"
     },
     "output_type": "display_data"
    }
   ],
   "source": [
    "#Creating a column with the logarithms of salaries to correct asymmetry and plotting the new distribution\n",
    "df_southeast['salary_log'] = np.log1p(df_southeast['salario'])\n",
    "df_southeast['salary_log'].plot(kind='hist', bins=30)\n"
   ]
  },
  {
   "cell_type": "code",
   "execution_count": 33,
   "metadata": {},
   "outputs": [
    {
     "data": {
      "text/plain": [
       "<matplotlib.axes._subplots.AxesSubplot at 0x2039f4c4518>"
      ]
     },
     "execution_count": 33,
     "metadata": {},
     "output_type": "execute_result"
    },
    {
     "data": {
      "image/png": "[encoded data removed]",
      "text/plain": [
       "<Figure size 432x288 with 1 Axes>"
      ]
     },
     "metadata": {
      "needs_background": "light"
     },
     "output_type": "display_data"
    }
   ],
   "source": [
    "# Creating a column with the normalized values of logs to extract: z-score and confidence interval\n",
    "df_southeast['norm_salary_log'] = ((df_southeast['salary_log'] - \n",
    "                                    df_southeast['salary_log'].mean()) / \n",
    "                                    df_southeast['salary_log'].std())\n",
    "df_southeast['norm_salary_log'].plot(kind='hist', bins=30)\n"
   ]
  },
  {
   "cell_type": "markdown",
   "metadata": {},
   "source": [
    "### Calculating confidence interval and z-score for a 10000 salaries sample (Confidence Level 95%)"
   ]
  },
  {
   "cell_type": "code",
   "execution_count": 34,
   "metadata": {},
   "outputs": [],
   "source": [
    "#Defining the Sample\n",
    "sample_southeast = df_southeast.norm_salary_log.sample(10000)\n",
    "\n",
    "#Sample's mean\n",
    "mean_southeast = np.mean(sample_southeast)\n",
    "\n",
    "#Sample's standard deviation\n",
    "std_southeast = np.std(sample_southeast)\n",
    "\n",
    "#Sample's length\n",
    "n_southeast = len(sample_southeast)\n"
   ]
  },
  {
   "cell_type": "code",
   "execution_count": 35,
   "metadata": {},
   "outputs": [
    {
     "name": "stdout",
     "output_type": "stream",
     "text": [
      "-0.0239 <-----> 0.0152\n"
     ]
    }
   ],
   "source": [
    "#Confidence Interval\n",
    "under_limit_southest = st.norm.interval(alpha=.95, loc=mean_southeast, scale=std_southeast/np.sqrt(n_southeast))[0]\n",
    "upper_limit_southest = st.norm.interval(alpha=.95, loc=mean_southeast, scale=std_southeast/np.sqrt(n_southeast))[1]\n",
    "\n",
    "print(f'{under_limit_southest:.4f} <-----> {upper_limit_southest:.4f}')\n"
   ]
  },
  {
   "cell_type": "code",
   "execution_count": 36,
   "metadata": {},
   "outputs": [
    {
     "name": "stdout",
     "output_type": "stream",
     "text": [
      "-1.9599 <-----> 1.9599\n"
     ]
    }
   ],
   "source": [
    "#z-score\n",
    "z_upper_southest = st.ttest_1samp(sample_southeast, under_limit_southest)[0]\n",
    "z_under_southest = st.ttest_1samp(sample_southeast, upper_limit_southest)[0]\n",
    "\n",
    "print(f'{z_under_southest:.4f} <-----> {z_upper_southest:.4f}')\n"
   ]
  },
  {
   "cell_type": "markdown",
   "metadata": {},
   "source": [
    "## Midwest Region"
   ]
  },
  {
   "cell_type": "code",
   "execution_count": 37,
   "metadata": {},
   "outputs": [
    {
     "data": {
      "text/plain": [
       "<matplotlib.axes._subplots.AxesSubplot at 0x2039f4afc88>"
      ]
     },
     "execution_count": 37,
     "metadata": {},
     "output_type": "execute_result"
    },
    {
     "data": {
      "image/png": "[encoded data removed]",
      "text/plain": [
       "<Figure size 432x288 with 1 Axes>"
      ]
     },
     "metadata": {
      "needs_background": "light"
     },
     "output_type": "display_data"
    }
   ],
   "source": [
    "#Verifying the salary distribution in the Midwest region\n",
    "df_midw['salario'].plot(kind='hist', bins=30, range=(0, 30000))\n"
   ]
  },
  {
   "cell_type": "code",
   "execution_count": 38,
   "metadata": {
    "scrolled": true
   },
   "outputs": [
    {
     "data": {
      "text/plain": [
       "<matplotlib.axes._subplots.AxesSubplot at 0x2039ff95080>"
      ]
     },
     "execution_count": 38,
     "metadata": {},
     "output_type": "execute_result"
    },
    {
     "data": {
      "image/png": "[encoded data removed]",
      "text/plain": [
       "<Figure size 432x288 with 1 Axes>"
      ]
     },
     "metadata": {
      "needs_background": "light"
     },
     "output_type": "display_data"
    }
   ],
   "source": [
    "#Creating a column with the logarithms of salaries to correct asymmetry and plotting the new distribution\n",
    "df_midw['salary_log'] = np.log1p(df_midw['salario'])\n",
    "df_midw['salary_log'].plot(kind='hist', bins=30)\n"
   ]
  },
  {
   "cell_type": "code",
   "execution_count": 39,
   "metadata": {
    "scrolled": true
   },
   "outputs": [
    {
     "data": {
      "text/plain": [
       "<matplotlib.axes._subplots.AxesSubplot at 0x2039f7c7668>"
      ]
     },
     "execution_count": 39,
     "metadata": {},
     "output_type": "execute_result"
    },
    {
     "data": {
      "image/png": "[encoded data removed]",
      "text/plain": [
       "<Figure size 432x288 with 1 Axes>"
      ]
     },
     "metadata": {
      "needs_background": "light"
     },
     "output_type": "display_data"
    }
   ],
   "source": [
    "# Creating a column with the normalized values of logs to extract: z-score and confidence interval\n",
    "df_midw['norm_salary_log'] = ((df_midw['salary_log'] - \n",
    "                               df_midw['salary_log'].mean()) / \n",
    "                               df_midw['salary_log'].std())\n",
    "df_midw['norm_salary_log'].plot(kind='hist', bins=30)\n"
   ]
  },
  {
   "cell_type": "markdown",
   "metadata": {},
   "source": [
    "### Calculating confidence interval and z-score for a 10000 salaries sample (Confidence Level 95%)"
   ]
  },
  {
   "cell_type": "code",
   "execution_count": 40,
   "metadata": {},
   "outputs": [],
   "source": [
    "#Defining the Sample\n",
    "sample_midwest = df_midw.norm_salary_log.sample(10000)\n",
    "\n",
    "#Sample's mean\n",
    "mean_midwest = np.mean(sample_midwest)\n",
    "\n",
    "#Sample's standard deviation\n",
    "std_midwest = np.std(sample_midwest)\n",
    "\n",
    "#Sample's length\n",
    "n_midwest = len(sample_midwest)\n"
   ]
  },
  {
   "cell_type": "code",
   "execution_count": 41,
   "metadata": {},
   "outputs": [
    {
     "name": "stdout",
     "output_type": "stream",
     "text": [
      "-0.0240 <-----> 0.0156\n"
     ]
    }
   ],
   "source": [
    "#Confidence Interval\n",
    "under_limit_midwest = st.norm.interval(alpha=.95, loc=mean_midwest, scale=std_midwest/np.sqrt(n_midwest))[0]\n",
    "upper_limit_midwest = st.norm.interval(alpha=.95, loc=mean_midwest, scale=std_midwest/np.sqrt(n_midwest))[1]\n",
    "\n",
    "print(f'{under_limit_midwest:.4f} <-----> {upper_limit_midwest:.4f}')\n"
   ]
  },
  {
   "cell_type": "code",
   "execution_count": 42,
   "metadata": {},
   "outputs": [
    {
     "name": "stdout",
     "output_type": "stream",
     "text": [
      "-1.9599 <-----> 1.9599\n"
     ]
    }
   ],
   "source": [
    "#z-score\n",
    "z_upper_midwest = st.ttest_1samp(sample_midwest, under_limit_midwest)[0]\n",
    "z_under_midwest = st.ttest_1samp(sample_midwest, upper_limit_midwest)[0]\n",
    "\n",
    "print(f'{z_under_midwest:.4f} <-----> {z_upper_midwest:.4f}')\n"
   ]
  },
  {
   "cell_type": "markdown",
   "metadata": {},
   "source": [
    "## North Region"
   ]
  },
  {
   "cell_type": "code",
   "execution_count": 43,
   "metadata": {
    "scrolled": true
   },
   "outputs": [
    {
     "data": {
      "text/plain": [
       "<matplotlib.axes._subplots.AxesSubplot at 0x203a00ab2e8>"
      ]
     },
     "execution_count": 43,
     "metadata": {},
     "output_type": "execute_result"
    },
    {
     "data": {
      "image/png": "[encoded data removed]",
      "text/plain": [
       "<Figure size 432x288 with 1 Axes>"
      ]
     },
     "metadata": {
      "needs_background": "light"
     },
     "output_type": "display_data"
    }
   ],
   "source": [
    "#Verifying the salary distribution in the North region\n",
    "df_north['salario'].plot(kind='hist', bins=30, range=(0, 30000))\n"
   ]
  },
  {
   "cell_type": "code",
   "execution_count": 44,
   "metadata": {
    "scrolled": true
   },
   "outputs": [
    {
     "data": {
      "text/plain": [
       "<matplotlib.axes._subplots.AxesSubplot at 0x203a0002f98>"
      ]
     },
     "execution_count": 44,
     "metadata": {},
     "output_type": "execute_result"
    },
    {
     "data": {
      "image/png": "[encoded data removed]",
      "text/plain": [
       "<Figure size 432x288 with 1 Axes>"
      ]
     },
     "metadata": {
      "needs_background": "light"
     },
     "output_type": "display_data"
    }
   ],
   "source": [
    "#Creating a column with the logarithms of salaries to correct asymmetry and plotting the new distribution\n",
    "df_north['salary_log'] = np.log1p(df_north['salario'])\n",
    "df_north['salary_log'].plot(kind='hist', bins=30)\n"
   ]
  },
  {
   "cell_type": "code",
   "execution_count": 45,
   "metadata": {},
   "outputs": [
    {
     "data": {
      "text/plain": [
       "<matplotlib.axes._subplots.AxesSubplot at 0x2039ff806a0>"
      ]
     },
     "execution_count": 45,
     "metadata": {},
     "output_type": "execute_result"
    },
    {
     "data": {
      "image/png": "[encoded data removed]",
      "text/plain": [
       "<Figure size 432x288 with 1 Axes>"
      ]
     },
     "metadata": {
      "needs_background": "light"
     },
     "output_type": "display_data"
    }
   ],
   "source": [
    "# Creating a column with the normalized values of logs to extract: z-score and confidence interval\n",
    "df_north['norm_salary_log'] = ((df_north['salary_log'] - \n",
    "                                df_north['salary_log'].mean()) / \n",
    "                                df_north['salary_log'].std())\n",
    "df_north['norm_salary_log'].plot(kind='hist', bins=30)\n"
   ]
  },
  {
   "cell_type": "markdown",
   "metadata": {},
   "source": [
    "### Calculating confidence interval and z-score for a 10000 salaries sample (Confidence Level 95%)"
   ]
  },
  {
   "cell_type": "code",
   "execution_count": 46,
   "metadata": {},
   "outputs": [],
   "source": [
    "#Defining the Sample\n",
    "sample_north = df_north.norm_salary_log.sample(10000)\n",
    "\n",
    "#Sample's mean\n",
    "mean_north = np.mean(sample_north)\n",
    "\n",
    "#Sample's standard deviation\n",
    "std_north = np.std(sample_north)\n",
    "\n",
    "#Sample's length\n",
    "n_north = len(sample_north)\n"
   ]
  },
  {
   "cell_type": "code",
   "execution_count": 47,
   "metadata": {},
   "outputs": [
    {
     "name": "stdout",
     "output_type": "stream",
     "text": [
      "-0.0149 <-----> 0.0241\n"
     ]
    }
   ],
   "source": [
    "#Confidence Interval\n",
    "under_limit_north = st.norm.interval(alpha=.95, loc=mean_north, scale=std_north/np.sqrt(n_north))[0]\n",
    "upper_limit_north = st.norm.interval(alpha=.95, loc=mean_north, scale=std_north/np.sqrt(n_north))[1]\n",
    "\n",
    "print(f'{under_limit_north:.4f} <-----> {upper_limit_north:.4f}')\n"
   ]
  },
  {
   "cell_type": "code",
   "execution_count": 48,
   "metadata": {},
   "outputs": [
    {
     "name": "stdout",
     "output_type": "stream",
     "text": [
      "-1.9599 <-----> 1.9599\n"
     ]
    }
   ],
   "source": [
    "#z-score\n",
    "z_upper_north = st.ttest_1samp(sample_north, under_limit_north)[0]\n",
    "z_under_north = st.ttest_1samp(sample_north, upper_limit_north)[0]\n",
    "\n",
    "print(f'{z_under_north:.4f} <-----> {z_upper_north:.4f}')\n"
   ]
  },
  {
   "cell_type": "markdown",
   "metadata": {},
   "source": [
    "## South Region"
   ]
  },
  {
   "cell_type": "code",
   "execution_count": 49,
   "metadata": {},
   "outputs": [
    {
     "data": {
      "text/plain": [
       "<matplotlib.axes._subplots.AxesSubplot at 0x203a020ebe0>"
      ]
     },
     "execution_count": 49,
     "metadata": {},
     "output_type": "execute_result"
    },
    {
     "data": {
      "image/png": "[encoded data removed]",
      "text/plain": [
       "<Figure size 432x288 with 1 Axes>"
      ]
     },
     "metadata": {
      "needs_background": "light"
     },
     "output_type": "display_data"
    }
   ],
   "source": [
    "#Verifying the salary distribution in the South region\n",
    "df_south['salario'].plot(kind='hist', bins=30, range=(0, 30000))\n"
   ]
  },
  {
   "cell_type": "code",
   "execution_count": 50,
   "metadata": {},
   "outputs": [
    {
     "data": {
      "text/plain": [
       "<matplotlib.axes._subplots.AxesSubplot at 0x203a029dd68>"
      ]
     },
     "execution_count": 50,
     "metadata": {},
     "output_type": "execute_result"
    },
    {
     "data": {
      "image/png": "[encoded data removed]",
      "text/plain": [
       "<Figure size 432x288 with 1 Axes>"
      ]
     },
     "metadata": {
      "needs_background": "light"
     },
     "output_type": "display_data"
    }
   ],
   "source": [
    "#Creating a column with the logarithms of salaries to correct asymmetry and plotting the new distribution\n",
    "df_south['salary_log'] = np.log1p(df_south['salario'])\n",
    "df_south['salary_log'].plot(kind='hist', bins=30)\n"
   ]
  },
  {
   "cell_type": "code",
   "execution_count": 51,
   "metadata": {},
   "outputs": [
    {
     "data": {
      "text/plain": [
       "<matplotlib.axes._subplots.AxesSubplot at 0x203a02c8e48>"
      ]
     },
     "execution_count": 51,
     "metadata": {},
     "output_type": "execute_result"
    },
    {
     "data": {
      "image/png": "[encoded data removed]",
      "text/plain": [
       "<Figure size 432x288 with 1 Axes>"
      ]
     },
     "metadata": {
      "needs_background": "light"
     },
     "output_type": "display_data"
    }
   ],
   "source": [
    "# Creating a column with the normalized values of logs to extract: z-score and confidence interval\n",
    "df_south['norm_salary_log'] = ((df_south['salary_log'] - \n",
    "                                df_south['salary_log'].mean()) / \n",
    "                                df_south['salary_log'].std())\n",
    "df_south['norm_salary_log'].plot(kind='hist', bins=30)\n"
   ]
  },
  {
   "cell_type": "markdown",
   "metadata": {},
   "source": [
    "### Calculating confidence interval and z-score for a 10000 salaries sample (Confidence Level 95%)"
   ]
  },
  {
   "cell_type": "code",
   "execution_count": 52,
   "metadata": {},
   "outputs": [],
   "source": [
    "#Defining the Sample\n",
    "sample_south = df_south.norm_salary_log.sample(10000)\n",
    "\n",
    "#Sample's mean\n",
    "mean_south = np.mean(sample_south)\n",
    "\n",
    "#Sample's standard deviation\n",
    "std_south = np.std(sample_south)\n",
    "\n",
    "#Sample's length\n",
    "n_south = len(sample_south)\n"
   ]
  },
  {
   "cell_type": "code",
   "execution_count": 53,
   "metadata": {},
   "outputs": [
    {
     "name": "stdout",
     "output_type": "stream",
     "text": [
      "-0.0195 <-----> 0.0197\n"
     ]
    }
   ],
   "source": [
    "#Confidence Interval\n",
    "under_limit_south = st.norm.interval(alpha=.95, loc=mean_south, scale=std_south/np.sqrt(n_south))[0]\n",
    "upper_limit_south = st.norm.interval(alpha=.95, loc=mean_south, scale=std_south/np.sqrt(n_south))[1]\n",
    "\n",
    "print(f'{under_limit_south:.4f} <-----> {upper_limit_south:.4f}')\n"
   ]
  },
  {
   "cell_type": "code",
   "execution_count": 54,
   "metadata": {},
   "outputs": [
    {
     "name": "stdout",
     "output_type": "stream",
     "text": [
      "-1.9599 <-----> 1.9599\n"
     ]
    }
   ],
   "source": [
    "#z-score\n",
    "z_upper_south = st.ttest_1samp(sample_south, under_limit_south)[0]\n",
    "z_under_south = st.ttest_1samp(sample_south, upper_limit_south)[0]\n",
    "\n",
    "print(f'{z_under_south:.4f} <-----> {z_upper_south:.4f}')\n"
   ]
  },
  {
   "cell_type": "markdown",
   "metadata": {},
   "source": [
    "------------------"
   ]
  },
  {
   "cell_type": "markdown",
   "metadata": {},
   "source": [
    "## Analysing Results"
   ]
  },
  {
   "cell_type": "markdown",
   "metadata": {},
   "source": [
    "### Hypothesis:\n",
    "__1. Are salaries in the Brazilian South region higher than the Brazilian North region?__\n",
    "\n",
    "__2. Between the Brazilian regions have any higher salaries than the others?__\n"
   ]
  },
  {
   "cell_type": "code",
   "execution_count": 55,
   "metadata": {},
   "outputs": [
    {
     "name": "stdout",
     "output_type": "stream",
     "text": [
      "Mean Southest: -0.004\n",
      "Mean Midwest: -0.004\n",
      "Mean North: 0.005\n",
      "Mean South: 0.000\n"
     ]
    }
   ],
   "source": [
    "# Defining the mean of the normalized salaries to each region\n",
    "\n",
    "print(f'Mean Southest: {mean_southeast:.3f}')\n",
    "print(f'Mean Midwest: {mean_midwest:.3f}')\n",
    "print(f'Mean North: {mean_north:.3f}')\n",
    "print(f'Mean South: {mean_south:.3f}')\n"
   ]
  },
  {
   "cell_type": "markdown",
   "metadata": {},
   "source": [
    "### Verifying Hypothesis 1:\n",
    "__1. Are salaries in the Brazilian South region higher than the Brazilian North region?__"
   ]
  },
  {
   "cell_type": "code",
   "execution_count": 56,
   "metadata": {
    "scrolled": true
   },
   "outputs": [
    {
     "name": "stdout",
     "output_type": "stream",
     "text": [
      "Is the North Salary mean under the South Salary Conf. Interval? \n",
      "-> True\n"
     ]
    }
   ],
   "source": [
    "print(f'''Is the North Salary mean under the South Salary Conf. Interval? \n",
    "-> {under_limit_south < mean_north < upper_limit_south}''')"
   ]
  },
  {
   "cell_type": "code",
   "execution_count": 57,
   "metadata": {},
   "outputs": [
    {
     "name": "stdout",
     "output_type": "stream",
     "text": [
      " p-value North Salary under the South Salary Conf. Interval: \n",
      "-> 32.71%\n"
     ]
    }
   ],
   "source": [
    "p_value = st.ttest_1samp(sample_south, mean_north)[1]/2\n",
    "print(f''' p-value North Salary under the South Salary Conf. Interval: \n",
    "-> {p_value * 100:.2f}%''')"
   ]
  },
  {
   "cell_type": "markdown",
   "metadata": {},
   "source": [
    "We can affirm with 95% certainty based on that Data Base, the average of the **North Region** salary is contained in the confidence interval of the salaries of the **South Region**.\n",
    "Therefore: **Reject $H_0$**"
   ]
  },
  {
   "cell_type": "markdown",
   "metadata": {},
   "source": [
    "### Verifying Hypothesis 2:\n",
    "__2. Between the Brazilian regions have any higher salaries than the others?__\n"
   ]
  },
  {
   "cell_type": "markdown",
   "metadata": {},
   "source": [
    "### Southeast Region"
   ]
  },
  {
   "cell_type": "code",
   "execution_count": 58,
   "metadata": {},
   "outputs": [
    {
     "name": "stdout",
     "output_type": "stream",
     "text": [
      "Is the Midwest Salary mean under the Southeast Salary Conf. Interval?\n",
      "-> True\n",
      "\n",
      "p-value Midwest Salary under the Southeast Salary Conf. Interval:\n",
      "-> 49.48%\n",
      "\n",
      " ----------------------------------------------------------------- \n",
      "\n",
      "Is the North Salary mean under the Southeast Salary Conf. Interval?\n",
      "-> True\n",
      "\n",
      "p-value North Salary under the Southeast Salary Conf. Interval:\n",
      "-> 18.51%\n",
      "\n",
      " ----------------------------------------------------------------- \n",
      "\n",
      "Is the South Salary mean under the Southeast Salary Conf. Interval?\n",
      "-> True\n",
      "\n",
      "p-value South Salary under the Southeast Salary Conf. Interval:\n",
      "-> 32.72%\n"
     ]
    }
   ],
   "source": [
    "print(f'''Is the Midwest Salary mean under the Southeast Salary Conf. Interval?\n",
    "-> {under_limit_southest < mean_midwest < upper_limit_southest}\\n''')\n",
    "\n",
    "p_value = st.ttest_1samp(sample_southeast, mean_midwest)[1]/2\n",
    "print(f'''p-value Midwest Salary under the Southeast Salary Conf. Interval:\n",
    "-> {p_value * 100:.2f}%''')\n",
    "\n",
    "print('\\n', '-' * 65, '\\n')\n",
    "\n",
    "\n",
    "print(f'''Is the North Salary mean under the Southeast Salary Conf. Interval?\n",
    "-> {under_limit_southest < mean_north < upper_limit_southest}\\n''')\n",
    "\n",
    "p_value = st.ttest_1samp(sample_southeast, mean_north)[1]/2\n",
    "print(f'''p-value North Salary under the Southeast Salary Conf. Interval:\n",
    "-> {p_value * 100:.2f}%''')\n",
    "\n",
    "print('\\n', '-' * 65, '\\n')\n",
    "\n",
    "\n",
    "print(f'''Is the South Salary mean under the Southeast Salary Conf. Interval?\n",
    "-> {under_limit_southest < mean_south < upper_limit_southest}\\n''')\n",
    "\n",
    "p_value = st.ttest_1samp(sample_southeast, mean_south)[1]/2\n",
    "print(f'''p-value South Salary under the Southeast Salary Conf. Interval:\n",
    "-> {p_value * 100:.2f}%''')\n"
   ]
  },
  {
   "cell_type": "markdown",
   "metadata": {},
   "source": [
    "### Midwest Region"
   ]
  },
  {
   "cell_type": "code",
   "execution_count": 59,
   "metadata": {},
   "outputs": [
    {
     "name": "stdout",
     "output_type": "stream",
     "text": [
      "Is the Southeast Salary mean under the Midwest Salary Conf. Interval?\n",
      "-> True\n",
      "\n",
      "p-value Southeast Salary under the Midwest Salary Conf. Interval:\n",
      "-> 49.49%\n",
      "\n",
      " ----------------------------------------------------------------- \n",
      "\n",
      "Is the North Salary mean under the Midwest Salary Conf. Interval?\n",
      "-> True\n",
      "\n",
      "p-value North Salary under the Midwest Salary Conf. Interval:\n",
      "-> 19.12%\n",
      "\n",
      " ----------------------------------------------------------------- \n",
      "\n",
      "Is the South Salary mean under the Midwest Salary Conf. Interval?\n",
      "-> True\n",
      "\n",
      "p-value South Salary under the Midwest Salary Conf. Interval:\n",
      "-> 33.37%\n"
     ]
    }
   ],
   "source": [
    "print(f'''Is the Southeast Salary mean under the Midwest Salary Conf. Interval?\n",
    "-> {under_limit_midwest < mean_southeast < upper_limit_midwest}\\n''')\n",
    "\n",
    "p_value = st.ttest_1samp(sample_midwest, mean_southeast)[1]/2\n",
    "print(f'''p-value Southeast Salary under the Midwest Salary Conf. Interval:\n",
    "-> {p_value * 100:.2f}%''')\n",
    "\n",
    "print('\\n', '-' * 65, '\\n')\n",
    "\n",
    "\n",
    "print(f'''Is the North Salary mean under the Midwest Salary Conf. Interval?\n",
    "-> {under_limit_midwest < mean_north < upper_limit_midwest}\\n''')\n",
    "\n",
    "p_value = st.ttest_1samp(sample_midwest, mean_north)[1]/2\n",
    "print(f'''p-value North Salary under the Midwest Salary Conf. Interval:\n",
    "-> {p_value * 100:.2f}%''')\n",
    "\n",
    "print('\\n', '-' * 65, '\\n')\n",
    "\n",
    "\n",
    "print(f'''Is the South Salary mean under the Midwest Salary Conf. Interval?\n",
    "-> {under_limit_midwest < mean_south < upper_limit_midwest}\\n''')\n",
    "\n",
    "p_value = st.ttest_1samp(sample_midwest, mean_south)[1]/2\n",
    "print(f'''p-value South Salary under the Midwest Salary Conf. Interval:\n",
    "-> {p_value * 100:.2f}%''')\n"
   ]
  },
  {
   "cell_type": "markdown",
   "metadata": {},
   "source": [
    "### North Region"
   ]
  },
  {
   "cell_type": "code",
   "execution_count": 60,
   "metadata": {},
   "outputs": [
    {
     "name": "stdout",
     "output_type": "stream",
     "text": [
      "Is the Southeast Salary mean under the North Salary Conf. Interval?\n",
      "-> True\n",
      "\n",
      "p-value Southeast Salary under the North Salary Conf. Interval:\n",
      "-> 18.40%\n",
      "\n",
      " ----------------------------------------------------------------- \n",
      "\n",
      "Is the Midwest Salary mean under the North Salary Conf. Interval?\n",
      "-> True\n",
      "\n",
      "p-value Midwest Salary under the North Salary Conf. Interval:\n",
      "-> 18.75%\n",
      "\n",
      " ----------------------------------------------------------------- \n",
      "\n",
      "Is the South Salary mean under the North Salary Conf. Interval?\n",
      "-> True\n",
      "\n",
      "p-value South Salary under the North Salary Conf. Interval:\n",
      "-> 32.61%\n"
     ]
    }
   ],
   "source": [
    "print(f'''Is the Southeast Salary mean under the North Salary Conf. Interval?\n",
    "-> {under_limit_north < mean_southeast < upper_limit_north}\\n''')\n",
    "\n",
    "p_value = st.ttest_1samp(sample_north, mean_southeast)[1]/2\n",
    "print(f'''p-value Southeast Salary under the North Salary Conf. Interval:\n",
    "-> {p_value * 100:.2f}%''')\n",
    "\n",
    "print('\\n', '-' * 65, '\\n')\n",
    "\n",
    "\n",
    "print(f'''Is the Midwest Salary mean under the North Salary Conf. Interval?\n",
    "-> {under_limit_north < mean_midwest < upper_limit_north}\\n''')\n",
    "\n",
    "p_value = st.ttest_1samp(sample_north, mean_midwest)[1]/2\n",
    "print(f'''p-value Midwest Salary under the North Salary Conf. Interval:\n",
    "-> {p_value * 100:.2f}%''')\n",
    "\n",
    "print('\\n', '-' * 65, '\\n')\n",
    "\n",
    "\n",
    "print(f'''Is the South Salary mean under the North Salary Conf. Interval?\n",
    "-> {under_limit_north < mean_south < upper_limit_north}\\n''')\n",
    "\n",
    "p_value = st.ttest_1samp(sample_north, mean_south)[1]/2\n",
    "print(f'''p-value South Salary under the North Salary Conf. Interval:\n",
    "-> {p_value * 100:.2f}%''')\n"
   ]
  },
  {
   "cell_type": "markdown",
   "metadata": {},
   "source": [
    "### South Region"
   ]
  },
  {
   "cell_type": "code",
   "execution_count": 61,
   "metadata": {
    "scrolled": false
   },
   "outputs": [
    {
     "name": "stdout",
     "output_type": "stream",
     "text": [
      "Is the Southeast Salary mean under the South Salary Conf. Interval?\n",
      "-> True\n",
      "\n",
      "p-value Southeast Salary under the South Salary Conf. Interval:\n",
      "-> 32.75%\n",
      "\n",
      " ----------------------------------------------------------------- \n",
      "\n",
      "Is the Midwest Salary mean under the South Salary Conf. Interval?\n",
      "-> True\n",
      "\n",
      "p-value Midwest Salary under the South Salary Conf. Interval:\n",
      "-> 33.21%\n",
      "\n",
      " ----------------------------------------------------------------- \n",
      "\n",
      "Is the North Salary mean under the South Salary Conf. Interval?\n",
      "-> True\n",
      "\n",
      "p-value North Salary under the South Salary Conf. Interval:\n",
      "-> 32.71%\n"
     ]
    }
   ],
   "source": [
    "print(f'''Is the Southeast Salary mean under the South Salary Conf. Interval?\n",
    "-> {under_limit_south < mean_southeast < upper_limit_south}\\n''')\n",
    "\n",
    "p_value = st.ttest_1samp(sample_south, mean_southeast)[1]/2\n",
    "print(f'''p-value Southeast Salary under the South Salary Conf. Interval:\n",
    "-> {p_value * 100:.2f}%''')\n",
    "\n",
    "print('\\n', '-' * 65, '\\n')\n",
    "\n",
    "\n",
    "print(f'''Is the Midwest Salary mean under the South Salary Conf. Interval?\n",
    "-> {under_limit_south < mean_midwest < upper_limit_south}\\n''')\n",
    "\n",
    "p_value = st.ttest_1samp(sample_south, mean_midwest)[1]/2\n",
    "print(f'''p-value Midwest Salary under the South Salary Conf. Interval:\n",
    "-> {p_value * 100:.2f}%''')\n",
    "\n",
    "print('\\n', '-' * 65, '\\n')\n",
    "\n",
    "\n",
    "print(f'''Is the North Salary mean under the South Salary Conf. Interval?\n",
    "-> {under_limit_south < mean_north < upper_limit_south}\\n''')\n",
    "\n",
    "p_value = st.ttest_1samp(sample_south, mean_north)[1]/2\n",
    "print(f'''p-value North Salary under the South Salary Conf. Interval:\n",
    "-> {p_value * 100:.2f}%''')\n"
   ]
  },
  {
   "cell_type": "markdown",
   "metadata": {},
   "source": [
    "We can affirm with 95% certainty based on that Data Base, the average of **all regions** salaries are contained in the  **all regions** salaries confidence interval.\n",
    "Therefore: **Reject $H_0$**"
   ]
  }
 ],
 "metadata": {
  "kernelspec": {
   "display_name": "Python 3",
   "language": "python",
   "name": "python3"
  },
  "language_info": {
   "codemirror_mode": {
    "name": "ipython",
    "version": 3
   },
   "file_extension": ".py",
   "mimetype": "text/x-python",
   "name": "python",
   "nbconvert_exporter": "python",
   "pygments_lexer": "ipython3",
   "version": "3.7.3"
  }
 },
 "nbformat": 4,
 "nbformat_minor": 2
}
