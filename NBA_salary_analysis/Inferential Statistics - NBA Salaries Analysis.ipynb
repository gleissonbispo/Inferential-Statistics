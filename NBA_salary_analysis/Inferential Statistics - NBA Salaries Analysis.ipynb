{
 "cells": [
  {
   "cell_type": "markdown",
   "metadata": {
    "pycharm": {}
   },
   "source": [
    "# Usage of Inferential Statistics to analyse NBA salaries"
   ]
  },
  {
   "cell_type": "markdown",
   "metadata": {
    "pycharm": {}
   },
   "source": [
    "---"
   ]
  },
  {
   "cell_type": "markdown",
   "metadata": {
    "pycharm": {}
   },
   "source": [
    "## Author:\n",
    "[__Gleisson Bispo__](https://github.com/gleissonbispo)\n"
   ]
  },
  {
   "cell_type": "markdown",
   "metadata": {
    "pycharm": {}
   },
   "source": [
    "## Hypothesis:\n",
    "In the 2017-2018 season did any NBA player have a **higher** or **lower** salary than the average?\n"
   ]
  },
  {
   "cell_type": "markdown",
   "metadata": {
    "pycharm": {}
   },
   "source": [
    "## Dataset:\n",
    "__[Kaggle: NBA Player Salary Dataset (2017 - 2018)](https://www.kaggle.com/koki25ando/salary)__"
   ]
  },
  {
   "cell_type": "markdown",
   "metadata": {
    "pycharm": {}
   },
   "source": [
    "---\n",
    "\n",
    "<img src=https://sportshub.cbsistatic.com/i/r/2018/09/15/f0e813c2-ad7f-453e-855d-097d9f4feed7/thumbnail/770x433/cdf43928ded227cc4f95dd2b8d702116/top100-cover.png width=600>\n",
    "\n",
    "__<center> Let's go! </center>__\n",
    "\n",
    "---"
   ]
  },
  {
   "cell_type": "markdown",
   "metadata": {
    "pycharm": {}
   },
   "source": [
    "## Importing Libraries and Reading Data"
   ]
  },
  {
   "cell_type": "code",
   "execution_count": 1,
   "metadata": {
    "pycharm": {}
   },
   "outputs": [],
   "source": [
    "#Libraries\n",
    "import pandas as pd\n",
    "import numpy as np\n",
    "import scipy.stats as st\n",
    "import matplotlib.pyplot as plt\n",
    "import seaborn as sns\n",
    "\n",
    "#Ignoring warnings\n",
    "import warnings\n",
    "warnings.filterwarnings(\"ignore\")"
   ]
  },
  {
   "cell_type": "code",
   "execution_count": 2,
   "metadata": {
    "pycharm": {}
   },
   "outputs": [
    {
     "data": {
      "text/html": [
       "<div>\n",
       "<style scoped>\n",
       "    .dataframe tbody tr th:only-of-type {\n",
       "        vertical-align: middle;\n",
       "    }\n",
       "\n",
       "    .dataframe tbody tr th {\n",
       "        vertical-align: top;\n",
       "    }\n",
       "\n",
       "    .dataframe thead th {\n",
       "        text-align: right;\n",
       "    }\n",
       "</style>\n",
       "<table border=\"1\" class=\"dataframe\">\n",
       "  <thead>\n",
       "    <tr style=\"text-align: right;\">\n",
       "      <th></th>\n",
       "      <th>Unnamed: 0</th>\n",
       "      <th>Player</th>\n",
       "      <th>Tm</th>\n",
       "      <th>season17_18</th>\n",
       "    </tr>\n",
       "  </thead>\n",
       "  <tbody>\n",
       "    <tr>\n",
       "      <th>0</th>\n",
       "      <td>1</td>\n",
       "      <td>Stephen Curry</td>\n",
       "      <td>GSW</td>\n",
       "      <td>34682550.0</td>\n",
       "    </tr>\n",
       "    <tr>\n",
       "      <th>1</th>\n",
       "      <td>2</td>\n",
       "      <td>LeBron James</td>\n",
       "      <td>CLE</td>\n",
       "      <td>33285709.0</td>\n",
       "    </tr>\n",
       "    <tr>\n",
       "      <th>2</th>\n",
       "      <td>3</td>\n",
       "      <td>Paul Millsap</td>\n",
       "      <td>DEN</td>\n",
       "      <td>31269231.0</td>\n",
       "    </tr>\n",
       "    <tr>\n",
       "      <th>3</th>\n",
       "      <td>4</td>\n",
       "      <td>Gordon Hayward</td>\n",
       "      <td>BOS</td>\n",
       "      <td>29727900.0</td>\n",
       "    </tr>\n",
       "    <tr>\n",
       "      <th>4</th>\n",
       "      <td>5</td>\n",
       "      <td>Blake Griffin</td>\n",
       "      <td>DET</td>\n",
       "      <td>29512900.0</td>\n",
       "    </tr>\n",
       "  </tbody>\n",
       "</table>\n",
       "</div>"
      ],
      "text/plain": [
       "   Unnamed: 0          Player   Tm  season17_18\n",
       "0           1   Stephen Curry  GSW   34682550.0\n",
       "1           2    LeBron James  CLE   33285709.0\n",
       "2           3    Paul Millsap  DEN   31269231.0\n",
       "3           4  Gordon Hayward  BOS   29727900.0\n",
       "4           5   Blake Griffin  DET   29512900.0"
      ]
     },
     "execution_count": 2,
     "metadata": {},
     "output_type": "execute_result"
    }
   ],
   "source": [
    "#Reading CSV Dataset\n",
    "df_NBA = pd.read_csv(r'data/NBA_season1718_salary.csv')\n",
    "df_NBA.head()\n"
   ]
  },
  {
   "cell_type": "code",
   "execution_count": 3,
   "metadata": {
    "pycharm": {}
   },
   "outputs": [
    {
     "name": "stdout",
     "output_type": "stream",
     "text": [
      "<class 'pandas.core.frame.DataFrame'>\n",
      "RangeIndex: 573 entries, 0 to 572\n",
      "Data columns (total 4 columns):\n",
      "Unnamed: 0     573 non-null int64\n",
      "Player         573 non-null object\n",
      "Tm             573 non-null object\n",
      "season17_18    573 non-null float64\n",
      "dtypes: float64(1), int64(1), object(2)\n",
      "memory usage: 18.0+ KB\n"
     ]
    }
   ],
   "source": [
    "#DF Key information\n",
    "df_NBA.info()\n"
   ]
  },
  {
   "cell_type": "code",
   "execution_count": 4,
   "metadata": {
    "pycharm": {},
    "scrolled": true
   },
   "outputs": [
    {
     "data": {
      "text/html": [
       "<div>\n",
       "<style scoped>\n",
       "    .dataframe tbody tr th:only-of-type {\n",
       "        vertical-align: middle;\n",
       "    }\n",
       "\n",
       "    .dataframe tbody tr th {\n",
       "        vertical-align: top;\n",
       "    }\n",
       "\n",
       "    .dataframe thead th {\n",
       "        text-align: right;\n",
       "    }\n",
       "</style>\n",
       "<table border=\"1\" class=\"dataframe\">\n",
       "  <thead>\n",
       "    <tr style=\"text-align: right;\">\n",
       "      <th></th>\n",
       "      <th>player</th>\n",
       "      <th>team</th>\n",
       "      <th>salary</th>\n",
       "    </tr>\n",
       "  </thead>\n",
       "  <tbody>\n",
       "    <tr>\n",
       "      <th>0</th>\n",
       "      <td>Stephen Curry</td>\n",
       "      <td>GSW</td>\n",
       "      <td>34682550.0</td>\n",
       "    </tr>\n",
       "    <tr>\n",
       "      <th>1</th>\n",
       "      <td>LeBron James</td>\n",
       "      <td>CLE</td>\n",
       "      <td>33285709.0</td>\n",
       "    </tr>\n",
       "    <tr>\n",
       "      <th>2</th>\n",
       "      <td>Paul Millsap</td>\n",
       "      <td>DEN</td>\n",
       "      <td>31269231.0</td>\n",
       "    </tr>\n",
       "    <tr>\n",
       "      <th>3</th>\n",
       "      <td>Gordon Hayward</td>\n",
       "      <td>BOS</td>\n",
       "      <td>29727900.0</td>\n",
       "    </tr>\n",
       "    <tr>\n",
       "      <th>4</th>\n",
       "      <td>Blake Griffin</td>\n",
       "      <td>DET</td>\n",
       "      <td>29512900.0</td>\n",
       "    </tr>\n",
       "  </tbody>\n",
       "</table>\n",
       "</div>"
      ],
      "text/plain": [
       "           player team      salary\n",
       "0   Stephen Curry  GSW  34682550.0\n",
       "1    LeBron James  CLE  33285709.0\n",
       "2    Paul Millsap  DEN  31269231.0\n",
       "3  Gordon Hayward  BOS  29727900.0\n",
       "4   Blake Griffin  DET  29512900.0"
      ]
     },
     "execution_count": 4,
     "metadata": {},
     "output_type": "execute_result"
    }
   ],
   "source": [
    "#Renaming and deleting columns\n",
    "df_NBA.columns = ['cod', 'player', 'team', 'salary']\n",
    "del df_NBA['cod']\n",
    "df_NBA.head()\n"
   ]
  },
  {
   "cell_type": "markdown",
   "metadata": {
    "pycharm": {}
   },
   "source": [
    "---\n",
    "## Visualizing players by team"
   ]
  },
  {
   "cell_type": "code",
   "execution_count": 5,
   "metadata": {
    "pycharm": {},
    "scrolled": false
   },
   "outputs": [
    {
     "data": {
      "text/plain": [
       "<seaborn.axisgrid.FacetGrid at 0x1c67e8917b8>"
      ]
     },
     "execution_count": 5,
     "metadata": {},
     "output_type": "execute_result"
    },
    {
     "data": {
      "image/png": "[encoded data removed]",
      "text/plain": [
       "<Figure size 900x360 with 1 Axes>"
      ]
     },
     "metadata": {
      "needs_background": "light"
     },
     "output_type": "display_data"
    }
   ],
   "source": [
    "team_index = df_NBA['team'].value_counts()\n",
    "sns.catplot(data=df_NBA,\n",
    "            x='team',\n",
    "            order=team_index.index,\n",
    "            kind='count',\n",
    "            aspect=2.5,\n",
    "            palette='GnBu_d')"
   ]
  },
  {
   "cell_type": "markdown",
   "metadata": {
    "pycharm": {}
   },
   "source": [
    "## Salary Distribution"
   ]
  },
  {
   "cell_type": "code",
   "execution_count": 6,
   "metadata": {
    "pycharm": {}
   },
   "outputs": [
    {
     "data": {
      "text/plain": [
       "<matplotlib.axes._subplots.AxesSubplot at 0x1c602763a58>"
      ]
     },
     "execution_count": 6,
     "metadata": {},
     "output_type": "execute_result"
    },
    {
     "data": {
      "image/png": "[encoded data removed]",
      "text/plain": [
       "<Figure size 576x288 with 1 Axes>"
      ]
     },
     "metadata": {
      "needs_background": "light"
     },
     "output_type": "display_data"
    }
   ],
   "source": [
    "#Histogram and KDE\n",
    "plt.figure(figsize=(8, 4))\n",
    "sns.distplot(df_NBA['salary'], bins=40)\n"
   ]
  },
  {
   "cell_type": "code",
   "execution_count": 7,
   "metadata": {
    "pycharm": {}
   },
   "outputs": [
    {
     "data": {
      "image/png": "[encoded data removed]",
      "text/plain": [
       "<Figure size 576x288 with 1 Axes>"
      ]
     },
     "metadata": {
      "needs_background": "light"
     },
     "output_type": "display_data"
    }
   ],
   "source": [
    "#Probability Density Function (PDF) Chart\n",
    "x = df_NBA['salary']\n",
    "\n",
    "plt.figure(figsize=(8, 4))\n",
    "plt.plot(x, st.norm.pdf(x, x.mean(), x.std()))\n",
    "plt.show()\n"
   ]
  },
  {
   "cell_type": "markdown",
   "metadata": {
    "pycharm": {}
   },
   "source": [
    "_Based on the probability density function plot is possible to identify a normal distibution, however, with a huge bilateral symmetry (right). Using a logarithm function is possible to \"correct\" it._"
   ]
  },
  {
   "cell_type": "markdown",
   "metadata": {
    "pycharm": {
     "metadata": false,
     "name": "#%%\n"
    }
   },
   "source": [
    "## Normalizing the salary data"
   ]
  },
  {
   "cell_type": "code",
   "execution_count": 8,
   "metadata": {
    "pycharm": {}
   },
   "outputs": [
    {
     "data": {
      "text/plain": [
       "<matplotlib.axes._subplots.AxesSubplot at 0x1c60266fcf8>"
      ]
     },
     "execution_count": 8,
     "metadata": {},
     "output_type": "execute_result"
    },
    {
     "data": {
      "image/png": "[encoded data removed]",
      "text/plain": [
       "<Figure size 432x288 with 1 Axes>"
      ]
     },
     "metadata": {
      "needs_background": "light"
     },
     "output_type": "display_data"
    }
   ],
   "source": [
    "#Creating a column with the salary log to normalize the distribution\n",
    "df_NBA['salary_log'] = np.log1p(df_NBA['salary'])\n",
    "sns.distplot(df_NBA['salary_log'], bins=25)\n"
   ]
  },
  {
   "cell_type": "code",
   "execution_count": 9,
   "metadata": {
    "pycharm": {}
   },
   "outputs": [
    {
     "data": {
      "text/plain": [
       "<matplotlib.axes._subplots.AxesSubplot at 0x1c60395aa20>"
      ]
     },
     "execution_count": 9,
     "metadata": {},
     "output_type": "execute_result"
    },
    {
     "data": {
      "image/png": "[encoded data removed]",
      "text/plain": [
       "<Figure size 432x288 with 1 Axes>"
      ]
     },
     "metadata": {
      "needs_background": "light"
     },
     "output_type": "display_data"
    }
   ],
   "source": [
    "#Dividing by the mean and standard deviation to standardize the serie in a new column\n",
    "df_NBA['norm_log_salary'] = ((df_NBA['salary_log'] - df_NBA['salary_log'].mean()) / df_NBA['salary_log'].std())\n",
    "sns.distplot(df_NBA['norm_log_salary'], bins=25)\n"
   ]
  },
  {
   "cell_type": "markdown",
   "metadata": {
    "pycharm": {}
   },
   "source": [
    "## Mean and Standard Deviation"
   ]
  },
  {
   "cell_type": "code",
   "execution_count": 10,
   "metadata": {
    "pycharm": {
     "metadata": false
    }
   },
   "outputs": [
    {
     "name": "stdout",
     "output_type": "stream",
     "text": [
      "Mean: 0.0000\n",
      "Standard: 1.0000\n"
     ]
    }
   ],
   "source": [
    "print(f\"\"\"Mean: {df_NBA.norm_log_salary.mean():.4f}\n",
    "Standard: {df_NBA.norm_log_salary.std():.4f}\"\"\")\n"
   ]
  },
  {
   "cell_type": "markdown",
   "metadata": {
    "pycharm": {}
   },
   "source": [
    "## P-Value to  2 std"
   ]
  },
  {
   "cell_type": "code",
   "execution_count": 65,
   "metadata": {
    "pycharm": {}
   },
   "outputs": [
    {
     "data": {
      "text/plain": [
       "0.04550026389635878"
      ]
     },
     "execution_count": 65,
     "metadata": {},
     "output_type": "execute_result"
    }
   ],
   "source": [
    "norm_mean = df_NBA.norm_log_salary.mean()\n",
    "norm_std = df_NBA.norm_log_salary.std()\n",
    "\n",
    "p_value = st.norm(norm_mean, norm_std).sf(2*norm_std) * 2 #to sides\n",
    "p_value\n"
   ]
  },
  {
   "cell_type": "markdown",
   "metadata": {
    "pycharm": {}
   },
   "source": [
    "## Calculating z-score"
   ]
  },
  {
   "cell_type": "code",
   "execution_count": 12,
   "metadata": {
    "pycharm": {}
   },
   "outputs": [
    {
     "name": "stdout",
     "output_type": "stream",
     "text": [
      "-1.9600 <--------> 1.9600\n"
     ]
    }
   ],
   "source": [
    "z_score_inf = st.norm.interval(alpha=0.95, loc=norm_mean, scale=norm_std)[0]\n",
    "z_score_sup = st.norm.interval(alpha=0.95, loc=norm_mean, scale=norm_std)[1]\n",
    "\n",
    "print(f'{z_score_inf:.4f} <--------> {z_score_sup:.4f}')\n"
   ]
  },
  {
   "cell_type": "markdown",
   "metadata": {
    "pycharm": {}
   },
   "source": [
    "__With the Alpha limits of 0.95 we can run the inference and find out which players are earning above or below average with a 95% confidence level.__"
   ]
  },
  {
   "cell_type": "markdown",
   "metadata": {
    "pycharm": {}
   },
   "source": [
    "---"
   ]
  },
  {
   "cell_type": "markdown",
   "metadata": {
    "pycharm": {}
   },
   "source": [
    "## Analysing Results\n"
   ]
  },
  {
   "cell_type": "markdown",
   "metadata": {
    "pycharm": {}
   },
   "source": [
    "## Hypothesis:\n",
    "In the 2017-2018 season did any NBA player have a **higher** or **lower** salary than the average?\n"
   ]
  },
  {
   "cell_type": "markdown",
   "metadata": {},
   "source": [
    "---\n",
    "### __1. Lower than the average__\n"
   ]
  },
  {
   "cell_type": "code",
   "execution_count": 14,
   "metadata": {
    "pycharm": {},
    "scrolled": false
   },
   "outputs": [
    {
     "data": {
      "text/html": [
       "<div>\n",
       "<style scoped>\n",
       "    .dataframe tbody tr th:only-of-type {\n",
       "        vertical-align: middle;\n",
       "    }\n",
       "\n",
       "    .dataframe tbody tr th {\n",
       "        vertical-align: top;\n",
       "    }\n",
       "\n",
       "    .dataframe thead th {\n",
       "        text-align: right;\n",
       "    }\n",
       "</style>\n",
       "<table border=\"1\" class=\"dataframe\">\n",
       "  <thead>\n",
       "    <tr style=\"text-align: right;\">\n",
       "      <th></th>\n",
       "      <th>player</th>\n",
       "      <th>team</th>\n",
       "      <th>salary</th>\n",
       "      <th>salary_log</th>\n",
       "      <th>norm_log_salary</th>\n",
       "    </tr>\n",
       "  </thead>\n",
       "  <tbody>\n",
       "    <tr>\n",
       "      <th>528</th>\n",
       "      <td>Demetrius Jackson</td>\n",
       "      <td>HOU</td>\n",
       "      <td>74159.0</td>\n",
       "      <td>11.213980</td>\n",
       "      <td>-1.988587</td>\n",
       "    </tr>\n",
       "    <tr>\n",
       "      <th>529</th>\n",
       "      <td>Georgios Papagiannis</td>\n",
       "      <td>POR</td>\n",
       "      <td>74159.0</td>\n",
       "      <td>11.213980</td>\n",
       "      <td>-1.988587</td>\n",
       "    </tr>\n",
       "    <tr>\n",
       "      <th>530</th>\n",
       "      <td>Larry Drew</td>\n",
       "      <td>NOP</td>\n",
       "      <td>74159.0</td>\n",
       "      <td>11.213980</td>\n",
       "      <td>-1.988587</td>\n",
       "    </tr>\n",
       "    <tr>\n",
       "      <th>531</th>\n",
       "      <td>Scotty Hopson</td>\n",
       "      <td>DAL</td>\n",
       "      <td>74159.0</td>\n",
       "      <td>11.213980</td>\n",
       "      <td>-1.988587</td>\n",
       "    </tr>\n",
       "    <tr>\n",
       "      <th>532</th>\n",
       "      <td>Isaiah Canaan</td>\n",
       "      <td>HOU</td>\n",
       "      <td>53465.0</td>\n",
       "      <td>10.886801</td>\n",
       "      <td>-2.179385</td>\n",
       "    </tr>\n",
       "    <tr>\n",
       "      <th>533</th>\n",
       "      <td>Tyler Cavanaugh</td>\n",
       "      <td>ATL</td>\n",
       "      <td>50000.0</td>\n",
       "      <td>10.819798</td>\n",
       "      <td>-2.218459</td>\n",
       "    </tr>\n",
       "    <tr>\n",
       "      <th>534</th>\n",
       "      <td>Kyle Collinsworth</td>\n",
       "      <td>DAL</td>\n",
       "      <td>50000.0</td>\n",
       "      <td>10.819798</td>\n",
       "      <td>-2.218459</td>\n",
       "    </tr>\n",
       "    <tr>\n",
       "      <th>535</th>\n",
       "      <td>Demetrius Jackson</td>\n",
       "      <td>HOU</td>\n",
       "      <td>50000.0</td>\n",
       "      <td>10.819798</td>\n",
       "      <td>-2.218459</td>\n",
       "    </tr>\n",
       "    <tr>\n",
       "      <th>536</th>\n",
       "      <td>Daniel Ochefu</td>\n",
       "      <td>WAS</td>\n",
       "      <td>50000.0</td>\n",
       "      <td>10.819798</td>\n",
       "      <td>-2.218459</td>\n",
       "    </tr>\n",
       "    <tr>\n",
       "      <th>537</th>\n",
       "      <td>Michael Young</td>\n",
       "      <td>WAS</td>\n",
       "      <td>50000.0</td>\n",
       "      <td>10.819798</td>\n",
       "      <td>-2.218459</td>\n",
       "    </tr>\n",
       "    <tr>\n",
       "      <th>538</th>\n",
       "      <td>Nate Wolters</td>\n",
       "      <td>UTA</td>\n",
       "      <td>50000.0</td>\n",
       "      <td>10.819798</td>\n",
       "      <td>-2.218459</td>\n",
       "    </tr>\n",
       "    <tr>\n",
       "      <th>539</th>\n",
       "      <td>Naz Mitrou-Long</td>\n",
       "      <td>UTA</td>\n",
       "      <td>50000.0</td>\n",
       "      <td>10.819798</td>\n",
       "      <td>-2.218459</td>\n",
       "    </tr>\n",
       "    <tr>\n",
       "      <th>540</th>\n",
       "      <td>Eric Griffin</td>\n",
       "      <td>UTA</td>\n",
       "      <td>50000.0</td>\n",
       "      <td>10.819798</td>\n",
       "      <td>-2.218459</td>\n",
       "    </tr>\n",
       "    <tr>\n",
       "      <th>541</th>\n",
       "      <td>Jacob Pullen</td>\n",
       "      <td>PHI</td>\n",
       "      <td>50000.0</td>\n",
       "      <td>10.819798</td>\n",
       "      <td>-2.218459</td>\n",
       "    </tr>\n",
       "    <tr>\n",
       "      <th>542</th>\n",
       "      <td>James Michael McAdoo</td>\n",
       "      <td>PHI</td>\n",
       "      <td>50000.0</td>\n",
       "      <td>10.819798</td>\n",
       "      <td>-2.218459</td>\n",
       "    </tr>\n",
       "    <tr>\n",
       "      <th>543</th>\n",
       "      <td>Nigel Hayes</td>\n",
       "      <td>NYK</td>\n",
       "      <td>50000.0</td>\n",
       "      <td>10.819798</td>\n",
       "      <td>-2.218459</td>\n",
       "    </tr>\n",
       "    <tr>\n",
       "      <th>544</th>\n",
       "      <td>Jalen Moore</td>\n",
       "      <td>MIL</td>\n",
       "      <td>50000.0</td>\n",
       "      <td>10.819798</td>\n",
       "      <td>-2.218459</td>\n",
       "    </tr>\n",
       "    <tr>\n",
       "      <th>545</th>\n",
       "      <td>Gary Payton</td>\n",
       "      <td>MIL</td>\n",
       "      <td>50000.0</td>\n",
       "      <td>10.819798</td>\n",
       "      <td>-2.218459</td>\n",
       "    </tr>\n",
       "    <tr>\n",
       "      <th>546</th>\n",
       "      <td>Matt Williams</td>\n",
       "      <td>MIA</td>\n",
       "      <td>50000.0</td>\n",
       "      <td>10.819798</td>\n",
       "      <td>-2.218459</td>\n",
       "    </tr>\n",
       "    <tr>\n",
       "      <th>547</th>\n",
       "      <td>Vince Hunter</td>\n",
       "      <td>MEM</td>\n",
       "      <td>50000.0</td>\n",
       "      <td>10.819798</td>\n",
       "      <td>-2.218459</td>\n",
       "    </tr>\n",
       "    <tr>\n",
       "      <th>548</th>\n",
       "      <td>Vander Blue</td>\n",
       "      <td>LAL</td>\n",
       "      <td>50000.0</td>\n",
       "      <td>10.819798</td>\n",
       "      <td>-2.218459</td>\n",
       "    </tr>\n",
       "    <tr>\n",
       "      <th>549</th>\n",
       "      <td>V.J. Beachem</td>\n",
       "      <td>LAL</td>\n",
       "      <td>50000.0</td>\n",
       "      <td>10.819798</td>\n",
       "      <td>-2.218459</td>\n",
       "    </tr>\n",
       "    <tr>\n",
       "      <th>550</th>\n",
       "      <td>Briante Weber</td>\n",
       "      <td>LAL</td>\n",
       "      <td>50000.0</td>\n",
       "      <td>10.819798</td>\n",
       "      <td>-2.218459</td>\n",
       "    </tr>\n",
       "    <tr>\n",
       "      <th>551</th>\n",
       "      <td>Jamil Wilson</td>\n",
       "      <td>LAC</td>\n",
       "      <td>50000.0</td>\n",
       "      <td>10.819798</td>\n",
       "      <td>-2.218459</td>\n",
       "    </tr>\n",
       "    <tr>\n",
       "      <th>552</th>\n",
       "      <td>Briante Weber</td>\n",
       "      <td>HOU</td>\n",
       "      <td>50000.0</td>\n",
       "      <td>10.819798</td>\n",
       "      <td>-2.218459</td>\n",
       "    </tr>\n",
       "    <tr>\n",
       "      <th>553</th>\n",
       "      <td>Luis Montero</td>\n",
       "      <td>DET</td>\n",
       "      <td>50000.0</td>\n",
       "      <td>10.819798</td>\n",
       "      <td>-2.218459</td>\n",
       "    </tr>\n",
       "    <tr>\n",
       "      <th>554</th>\n",
       "      <td>Gian Clavell</td>\n",
       "      <td>DAL</td>\n",
       "      <td>50000.0</td>\n",
       "      <td>10.819798</td>\n",
       "      <td>-2.218459</td>\n",
       "    </tr>\n",
       "    <tr>\n",
       "      <th>555</th>\n",
       "      <td>Antonius Cleveland</td>\n",
       "      <td>DAL</td>\n",
       "      <td>50000.0</td>\n",
       "      <td>10.819798</td>\n",
       "      <td>-2.218459</td>\n",
       "    </tr>\n",
       "    <tr>\n",
       "      <th>556</th>\n",
       "      <td>Diamond Stone</td>\n",
       "      <td>CHI</td>\n",
       "      <td>50000.0</td>\n",
       "      <td>10.819798</td>\n",
       "      <td>-2.218459</td>\n",
       "    </tr>\n",
       "    <tr>\n",
       "      <th>557</th>\n",
       "      <td>Yakuba Ouattara</td>\n",
       "      <td>BRK</td>\n",
       "      <td>50000.0</td>\n",
       "      <td>10.819798</td>\n",
       "      <td>-2.218459</td>\n",
       "    </tr>\n",
       "    <tr>\n",
       "      <th>558</th>\n",
       "      <td>Jeremy Evans</td>\n",
       "      <td>ATL</td>\n",
       "      <td>50000.0</td>\n",
       "      <td>10.819798</td>\n",
       "      <td>-2.218459</td>\n",
       "    </tr>\n",
       "    <tr>\n",
       "      <th>559</th>\n",
       "      <td>Nigel Hayes</td>\n",
       "      <td>LAL</td>\n",
       "      <td>46080.0</td>\n",
       "      <td>10.738156</td>\n",
       "      <td>-2.266070</td>\n",
       "    </tr>\n",
       "    <tr>\n",
       "      <th>560</th>\n",
       "      <td>Nigel Hayes</td>\n",
       "      <td>TOR</td>\n",
       "      <td>46080.0</td>\n",
       "      <td>10.738156</td>\n",
       "      <td>-2.266070</td>\n",
       "    </tr>\n",
       "    <tr>\n",
       "      <th>561</th>\n",
       "      <td>Rodney Purvis</td>\n",
       "      <td>ORL</td>\n",
       "      <td>46080.0</td>\n",
       "      <td>10.738156</td>\n",
       "      <td>-2.266070</td>\n",
       "    </tr>\n",
       "    <tr>\n",
       "      <th>562</th>\n",
       "      <td>Xavier Rathan-Mayes</td>\n",
       "      <td>MEM</td>\n",
       "      <td>46080.0</td>\n",
       "      <td>10.738156</td>\n",
       "      <td>-2.266070</td>\n",
       "    </tr>\n",
       "    <tr>\n",
       "      <th>563</th>\n",
       "      <td>Trey McKinney-Jones</td>\n",
       "      <td>IND</td>\n",
       "      <td>46080.0</td>\n",
       "      <td>10.738156</td>\n",
       "      <td>-2.266070</td>\n",
       "    </tr>\n",
       "    <tr>\n",
       "      <th>564</th>\n",
       "      <td>Jameel Warney</td>\n",
       "      <td>DAL</td>\n",
       "      <td>46080.0</td>\n",
       "      <td>10.738156</td>\n",
       "      <td>-2.266070</td>\n",
       "    </tr>\n",
       "    <tr>\n",
       "      <th>565</th>\n",
       "      <td>Marcus Thornton</td>\n",
       "      <td>CLE</td>\n",
       "      <td>46080.0</td>\n",
       "      <td>10.738156</td>\n",
       "      <td>-2.266070</td>\n",
       "    </tr>\n",
       "    <tr>\n",
       "      <th>566</th>\n",
       "      <td>DeAndre Liggins</td>\n",
       "      <td>ATL</td>\n",
       "      <td>26773.0</td>\n",
       "      <td>10.195187</td>\n",
       "      <td>-2.582709</td>\n",
       "    </tr>\n",
       "    <tr>\n",
       "      <th>567</th>\n",
       "      <td>Axel Toupane</td>\n",
       "      <td>NOP</td>\n",
       "      <td>25000.0</td>\n",
       "      <td>10.126671</td>\n",
       "      <td>-2.622664</td>\n",
       "    </tr>\n",
       "    <tr>\n",
       "      <th>568</th>\n",
       "      <td>Quinn Cook</td>\n",
       "      <td>NOP</td>\n",
       "      <td>25000.0</td>\n",
       "      <td>10.126671</td>\n",
       "      <td>-2.622664</td>\n",
       "    </tr>\n",
       "    <tr>\n",
       "      <th>569</th>\n",
       "      <td>Chris Johnson</td>\n",
       "      <td>HOU</td>\n",
       "      <td>25000.0</td>\n",
       "      <td>10.126671</td>\n",
       "      <td>-2.622664</td>\n",
       "    </tr>\n",
       "    <tr>\n",
       "      <th>570</th>\n",
       "      <td>Beno Udrih</td>\n",
       "      <td>DET</td>\n",
       "      <td>25000.0</td>\n",
       "      <td>10.126671</td>\n",
       "      <td>-2.622664</td>\n",
       "    </tr>\n",
       "    <tr>\n",
       "      <th>571</th>\n",
       "      <td>Joel Bolomboy</td>\n",
       "      <td>MIL</td>\n",
       "      <td>22248.0</td>\n",
       "      <td>10.010052</td>\n",
       "      <td>-2.690672</td>\n",
       "    </tr>\n",
       "    <tr>\n",
       "      <th>572</th>\n",
       "      <td>Jarell Eddie</td>\n",
       "      <td>CHI</td>\n",
       "      <td>17224.0</td>\n",
       "      <td>9.754117</td>\n",
       "      <td>-2.839924</td>\n",
       "    </tr>\n",
       "  </tbody>\n",
       "</table>\n",
       "</div>"
      ],
      "text/plain": [
       "                   player team   salary  salary_log  norm_log_salary\n",
       "528     Demetrius Jackson  HOU  74159.0   11.213980        -1.988587\n",
       "529  Georgios Papagiannis  POR  74159.0   11.213980        -1.988587\n",
       "530            Larry Drew  NOP  74159.0   11.213980        -1.988587\n",
       "531         Scotty Hopson  DAL  74159.0   11.213980        -1.988587\n",
       "532         Isaiah Canaan  HOU  53465.0   10.886801        -2.179385\n",
       "533       Tyler Cavanaugh  ATL  50000.0   10.819798        -2.218459\n",
       "534     Kyle Collinsworth  DAL  50000.0   10.819798        -2.218459\n",
       "535     Demetrius Jackson  HOU  50000.0   10.819798        -2.218459\n",
       "536         Daniel Ochefu  WAS  50000.0   10.819798        -2.218459\n",
       "537         Michael Young  WAS  50000.0   10.819798        -2.218459\n",
       "538          Nate Wolters  UTA  50000.0   10.819798        -2.218459\n",
       "539       Naz Mitrou-Long  UTA  50000.0   10.819798        -2.218459\n",
       "540          Eric Griffin  UTA  50000.0   10.819798        -2.218459\n",
       "541          Jacob Pullen  PHI  50000.0   10.819798        -2.218459\n",
       "542  James Michael McAdoo  PHI  50000.0   10.819798        -2.218459\n",
       "543           Nigel Hayes  NYK  50000.0   10.819798        -2.218459\n",
       "544           Jalen Moore  MIL  50000.0   10.819798        -2.218459\n",
       "545           Gary Payton  MIL  50000.0   10.819798        -2.218459\n",
       "546         Matt Williams  MIA  50000.0   10.819798        -2.218459\n",
       "547          Vince Hunter  MEM  50000.0   10.819798        -2.218459\n",
       "548           Vander Blue  LAL  50000.0   10.819798        -2.218459\n",
       "549          V.J. Beachem  LAL  50000.0   10.819798        -2.218459\n",
       "550         Briante Weber  LAL  50000.0   10.819798        -2.218459\n",
       "551          Jamil Wilson  LAC  50000.0   10.819798        -2.218459\n",
       "552         Briante Weber  HOU  50000.0   10.819798        -2.218459\n",
       "553          Luis Montero  DET  50000.0   10.819798        -2.218459\n",
       "554          Gian Clavell  DAL  50000.0   10.819798        -2.218459\n",
       "555    Antonius Cleveland  DAL  50000.0   10.819798        -2.218459\n",
       "556         Diamond Stone  CHI  50000.0   10.819798        -2.218459\n",
       "557       Yakuba Ouattara  BRK  50000.0   10.819798        -2.218459\n",
       "558          Jeremy Evans  ATL  50000.0   10.819798        -2.218459\n",
       "559           Nigel Hayes  LAL  46080.0   10.738156        -2.266070\n",
       "560           Nigel Hayes  TOR  46080.0   10.738156        -2.266070\n",
       "561         Rodney Purvis  ORL  46080.0   10.738156        -2.266070\n",
       "562   Xavier Rathan-Mayes  MEM  46080.0   10.738156        -2.266070\n",
       "563   Trey McKinney-Jones  IND  46080.0   10.738156        -2.266070\n",
       "564         Jameel Warney  DAL  46080.0   10.738156        -2.266070\n",
       "565       Marcus Thornton  CLE  46080.0   10.738156        -2.266070\n",
       "566       DeAndre Liggins  ATL  26773.0   10.195187        -2.582709\n",
       "567          Axel Toupane  NOP  25000.0   10.126671        -2.622664\n",
       "568            Quinn Cook  NOP  25000.0   10.126671        -2.622664\n",
       "569         Chris Johnson  HOU  25000.0   10.126671        -2.622664\n",
       "570            Beno Udrih  DET  25000.0   10.126671        -2.622664\n",
       "571         Joel Bolomboy  MIL  22248.0   10.010052        -2.690672\n",
       "572          Jarell Eddie  CHI  17224.0    9.754117        -2.839924"
      ]
     },
     "execution_count": 14,
     "metadata": {},
     "output_type": "execute_result"
    }
   ],
   "source": [
    "#Players\n",
    "df_NBA_lower = df_NBA[df_NBA['norm_log_salary'] < z_score_inf]\n",
    "df_NBA_lower\n"
   ]
  },
  {
   "cell_type": "code",
   "execution_count": 21,
   "metadata": {},
   "outputs": [
    {
     "data": {
      "text/plain": [
       "HOU    5\n",
       "DAL    5\n",
       "LAL    4\n",
       "ATL    3\n",
       "NOP    3\n",
       "UTA    3\n",
       "MIL    3\n",
       "DET    2\n",
       "PHI    2\n",
       "CHI    2\n",
       "MEM    2\n",
       "WAS    2\n",
       "IND    1\n",
       "LAC    1\n",
       "NYK    1\n",
       "POR    1\n",
       "CLE    1\n",
       "MIA    1\n",
       "TOR    1\n",
       "BRK    1\n",
       "ORL    1\n",
       "Name: team, dtype: int64"
      ]
     },
     "execution_count": 21,
     "metadata": {},
     "output_type": "execute_result"
    }
   ],
   "source": [
    "#Players by team\n",
    "team_index = df_NBA_lower['team'].value_counts()\n",
    "team_index\n"
   ]
  },
  {
   "cell_type": "code",
   "execution_count": 53,
   "metadata": {
    "pycharm": {
     "metadata": false
    }
   },
   "outputs": [
    {
     "data": {
      "text/plain": [
       "<matplotlib.axes._subplots.AxesSubplot at 0x1c60595f278>"
      ]
     },
     "execution_count": 53,
     "metadata": {},
     "output_type": "execute_result"
    },
    {
     "data": {
      "image/png": "[encoded data removed]",
      "text/plain": [
       "<Figure size 864x360 with 1 Axes>"
      ]
     },
     "metadata": {
      "needs_background": "light"
     },
     "output_type": "display_data"
    }
   ],
   "source": [
    "#Plot players by team\n",
    "plt.figure(figsize=(12, 5))\n",
    "sns.countplot(df_NBA_lower['team'],\n",
    "              order=team_index.index,\n",
    "              palette='Blues_r')\n"
   ]
  },
  {
   "cell_type": "code",
   "execution_count": 54,
   "metadata": {},
   "outputs": [
    {
     "name": "stdout",
     "output_type": "stream",
     "text": [
      "Players with a lower salary than the average: \n",
      "Total - 45\n",
      "Rate - 7.85%\n"
     ]
    }
   ],
   "source": [
    "print(f\"\"\"Players with a lower salary than the average: \n",
    "Total - {df_NBA_lower.shape[0]}\n",
    "Rate - {df_NBA_lower.shape[0] / df_NBA.shape[0] * 100:.2f}%\"\"\")\n"
   ]
  },
  {
   "cell_type": "markdown",
   "metadata": {},
   "source": [
    "There are currently __45 players__ earning less than the average salary. This represents a total of __7.85%__.\n",
    "\n",
    "---"
   ]
  },
  {
   "cell_type": "markdown",
   "metadata": {},
   "source": [
    "### __2. Higher than the average__\n"
   ]
  },
  {
   "cell_type": "code",
   "execution_count": 50,
   "metadata": {},
   "outputs": [
    {
     "data": {
      "text/html": [
       "<div>\n",
       "<style scoped>\n",
       "    .dataframe tbody tr th:only-of-type {\n",
       "        vertical-align: middle;\n",
       "    }\n",
       "\n",
       "    .dataframe tbody tr th {\n",
       "        vertical-align: top;\n",
       "    }\n",
       "\n",
       "    .dataframe thead th {\n",
       "        text-align: right;\n",
       "    }\n",
       "</style>\n",
       "<table border=\"1\" class=\"dataframe\">\n",
       "  <thead>\n",
       "    <tr style=\"text-align: right;\">\n",
       "      <th></th>\n",
       "      <th>player</th>\n",
       "      <th>team</th>\n",
       "      <th>salary</th>\n",
       "      <th>salary_log</th>\n",
       "      <th>norm_log_salary</th>\n",
       "    </tr>\n",
       "  </thead>\n",
       "  <tbody>\n",
       "  </tbody>\n",
       "</table>\n",
       "</div>"
      ],
      "text/plain": [
       "Empty DataFrame\n",
       "Columns: [player, team, salary, salary_log, norm_log_salary]\n",
       "Index: []"
      ]
     },
     "execution_count": 50,
     "metadata": {},
     "output_type": "execute_result"
    }
   ],
   "source": [
    "#Players\n",
    "df_NBA_higher = df_NBA[df_NBA['norm_log_salary'] > z_score_sup]\n",
    "df_NBA_higher\n"
   ]
  },
  {
   "cell_type": "code",
   "execution_count": 59,
   "metadata": {
    "scrolled": true
   },
   "outputs": [
    {
     "name": "stdout",
     "output_type": "stream",
     "text": [
      "Players with a higher salary than the average: \n",
      "Total - 0\n",
      "Rate - 0.00%\n"
     ]
    }
   ],
   "source": [
    "print(f\"\"\"Players with a higher salary than the average: \n",
    "Total - {df_NBA_higher.shape[0]}\n",
    "Rate - {df_NBA_higher.shape[0] / df_NBA.shape[0] * 100:.2f}%\"\"\")\n"
   ]
  },
  {
   "cell_type": "code",
   "execution_count": 61,
   "metadata": {},
   "outputs": [
    {
     "name": "stdout",
     "output_type": "stream",
     "text": [
      "P-value: 0.055\n",
      "Alpha Max: 0.945\n",
      "We can confirm that the highest salary is on the distribution!\n"
     ]
    }
   ],
   "source": [
    "#p-value and alpha max to the highest salary\n",
    "p_value = st.norm(norm_mean, norm_std).sf(df_NBA['norm_log_salary'].max())\n",
    "alpha = 1 - p_value\n",
    "print(f'P-value: {p_value:.3f}\\nAlpha Max: {alpha:.3f}\\nWe can confirm that the highest salary is on the distribution!')\n"
   ]
  },
  {
   "cell_type": "markdown",
   "metadata": {},
   "source": [
    "Currently there are __no__ players earning higher than the average salary. The highest salary is on the average distribution."
   ]
  }
 ],
 "metadata": {
  "kernelspec": {
   "display_name": "Python 3",
   "language": "python",
   "name": "python3"
  },
  "language_info": {
   "codemirror_mode": {
    "name": "ipython",
    "version": 3
   },
   "file_extension": ".py",
   "mimetype": "text/x-python",
   "name": "python",
   "nbconvert_exporter": "python",
   "pygments_lexer": "ipython3",
   "version": "3.7.3"
  }
 },
 "nbformat": 4,
 "nbformat_minor": 2
}
